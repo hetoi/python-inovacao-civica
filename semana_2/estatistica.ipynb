{
  "cells": [
    {
      "cell_type": "markdown",
      "id": "7734693e",
      "metadata": {
        "id": "7734693e"
      },
      "source": [
        "# Escola de Dados - Python para inovação cívica\n",
        "## Módulo 1: Noções básicas de estatística descritiva e pré-processamento\n",
        "\n",
        "- [Aula 8](#Aula-8:-Introdução-a-estatística)\n",
        "- [Aula 9](#Aula-9:-Medidas-de-tendência-central-e-dispersão)\n",
        "- [Aula 10](#Aula-10:-Outliers-e-valores-faltantes)\n",
        "- [Aula 12](#Aula-12:-Operações-básicas-com-python)\n",
        "- [Aula 13](#Aula-13:-Métodos-`filter`-e-`sort_values`)\n",
        "- [Aula 14](#Aula-14:-Operações-com-dados-e-método-`apply`)\n",
        "- [Aula 15](#Aula-15:-Operações-com-dados-e-método-`groupby`)\n",
        "\n",
        "\n",
        "### Aula 8: Introdução a estatística\n",
        "\n",
        "Os dados que usaremos nesse notebook pode ser encontrado em: [TSE. Candidaturas em 2020](https://www.tse.jus.br/eleicoes/estatisticas/repositorio-de-dados-eleitorais-1).\n",
        "\n",
        "Trabalharemos com os dados referentes as candidaturas nos estados de Amapá e Pará.\n"
      ]
    },
    {
      "cell_type": "code",
      "execution_count": 2,
      "id": "2d8c10dc",
      "metadata": {
        "tags": [],
        "id": "2d8c10dc"
      },
      "outputs": [],
      "source": [
        "import pandas as pd\n",
        "import glob"
      ]
    },
    {
      "cell_type": "code",
      "execution_count": 6,
      "id": "23db38e0",
      "metadata": {
        "tags": [],
        "id": "23db38e0"
      },
      "outputs": [],
      "source": [
        "dados_ap_pa = ['/content/consulta_cand_2020_AP.csv', '/content/consulta_cand_2020_PA.csv']"
      ]
    },
    {
      "cell_type": "code",
      "execution_count": 8,
      "id": "d6c44eef",
      "metadata": {
        "tags": [],
        "id": "d6c44eef"
      },
      "outputs": [],
      "source": [
        "lista_df = []\n",
        "\n",
        "for dados_estado in dados_ap_pa:\n",
        "    df_estado = pd.read_csv(dados_estado, sep=';', encoding='latin_1')\n",
        "    lista_df.append(df_estado)"
      ]
    },
    {
      "cell_type": "code",
      "execution_count": 9,
      "id": "31ddff3b",
      "metadata": {
        "tags": [],
        "id": "31ddff3b"
      },
      "outputs": [],
      "source": [
        "df_completo = pd.concat(lista_df, axis=0, ignore_index=True)"
      ]
    },
    {
      "cell_type": "code",
      "source": [
        "df_completo['CD_CARGO'].unique()"
      ],
      "metadata": {
        "id": "L-FdKUB-G79d",
        "outputId": "ff61ef85-d703-4685-9772-73abe3c7fec8",
        "colab": {
          "base_uri": "https://localhost:8080/"
        }
      },
      "id": "L-FdKUB-G79d",
      "execution_count": 11,
      "outputs": [
        {
          "output_type": "execute_result",
          "data": {
            "text/plain": [
              "array([13, 11, 12])"
            ]
          },
          "metadata": {},
          "execution_count": 11
        }
      ]
    },
    {
      "cell_type": "markdown",
      "id": "d4cc48d0",
      "metadata": {
        "id": "d4cc48d0"
      },
      "source": [
        "É possível criar um dataframe apenas com os dados de candidaturas para as Câmeras de Vereadores dos estados."
      ]
    },
    {
      "cell_type": "code",
      "execution_count": 18,
      "id": "4e05d8d6",
      "metadata": {
        "tags": [],
        "id": "4e05d8d6"
      },
      "outputs": [],
      "source": [
        "df_vereadores = df_completo[df_completo['CD_CARGO'] == 13].copy()"
      ]
    },
    {
      "cell_type": "code",
      "execution_count": null,
      "id": "2c80d4c0",
      "metadata": {
        "tags": [],
        "id": "2c80d4c0",
        "outputId": "2f464988-bd81-48d7-917a-27168f94625d",
        "colab": {
          "base_uri": "https://localhost:8080/"
        }
      },
      "outputs": [
        {
          "output_type": "execute_result",
          "data": {
            "text/plain": [
              "Index(['DT_GERACAO', 'HH_GERACAO', 'ANO_ELEICAO', 'CD_TIPO_ELEICAO',\n",
              "       'NM_TIPO_ELEICAO', 'NR_TURNO', 'CD_ELEICAO', 'DS_ELEICAO', 'DT_ELEICAO',\n",
              "       'TP_ABRANGENCIA', 'SG_UF', 'SG_UE', 'NM_UE', 'CD_CARGO', 'DS_CARGO',\n",
              "       'SQ_CANDIDATO', 'NR_CANDIDATO', 'NM_CANDIDATO', 'NM_URNA_CANDIDATO',\n",
              "       'NM_SOCIAL_CANDIDATO', 'NR_CPF_CANDIDATO', 'NM_EMAIL',\n",
              "       'CD_SITUACAO_CANDIDATURA', 'DS_SITUACAO_CANDIDATURA',\n",
              "       'CD_DETALHE_SITUACAO_CAND', 'DS_DETALHE_SITUACAO_CAND', 'TP_AGREMIACAO',\n",
              "       'NR_PARTIDO', 'SG_PARTIDO', 'NM_PARTIDO', 'NR_FEDERACAO',\n",
              "       'NM_FEDERACAO', 'SG_FEDERACAO', 'DS_COMPOSICAO_FEDERACAO',\n",
              "       'SQ_COLIGACAO', 'NM_COLIGACAO', 'DS_COMPOSICAO_COLIGACAO',\n",
              "       'CD_NACIONALIDADE', 'DS_NACIONALIDADE', 'SG_UF_NASCIMENTO',\n",
              "       'CD_MUNICIPIO_NASCIMENTO', 'NM_MUNICIPIO_NASCIMENTO', 'DT_NASCIMENTO',\n",
              "       'NR_IDADE_DATA_POSSE', 'NR_TITULO_ELEITORAL_CANDIDATO', 'CD_GENERO',\n",
              "       'DS_GENERO', 'CD_GRAU_INSTRUCAO', 'DS_GRAU_INSTRUCAO',\n",
              "       'CD_ESTADO_CIVIL', 'DS_ESTADO_CIVIL', 'CD_COR_RACA', 'DS_COR_RACA',\n",
              "       'CD_OCUPACAO', 'DS_OCUPACAO', 'VR_DESPESA_MAX_CAMPANHA',\n",
              "       'CD_SIT_TOT_TURNO', 'DS_SIT_TOT_TURNO', 'ST_REELEICAO',\n",
              "       'ST_DECLARAR_BENS', 'NR_PROTOCOLO_CANDIDATURA', 'NR_PROCESSO',\n",
              "       'CD_SITUACAO_CANDIDATO_PLEITO', 'DS_SITUACAO_CANDIDATO_PLEITO',\n",
              "       'CD_SITUACAO_CANDIDATO_URNA', 'DS_SITUACAO_CANDIDATO_URNA',\n",
              "       'ST_CANDIDATO_INSERIDO_URNA', 'NM_TIPO_DESTINACAO_VOTOS',\n",
              "       'CD_SITUACAO_CANDIDATO_TOT', 'DS_SITUACAO_CANDIDATO_TOT',\n",
              "       'ST_PREST_CONTAS'],\n",
              "      dtype='object')"
            ]
          },
          "metadata": {},
          "execution_count": 25
        }
      ],
      "source": [
        "df_vereadores.columns"
      ]
    },
    {
      "cell_type": "markdown",
      "id": "5dca9125",
      "metadata": {
        "id": "5dca9125"
      },
      "source": [
        "O método `pd.describe` traz um quadro com algumas medidas da estatística descritiva, como as medidas de tendência central, medidas de dispersão e quartis, excluindo os valores NaN (not a number)."
      ]
    },
    {
      "cell_type": "code",
      "execution_count": null,
      "id": "468e4929-6fbc-4f1e-b44a-033411a5f8a1",
      "metadata": {
        "tags": [],
        "id": "468e4929-6fbc-4f1e-b44a-033411a5f8a1",
        "outputId": "c1eae580-e96e-4455-de44-9cfbb6a03903",
        "colab": {
          "base_uri": "https://localhost:8080/"
        }
      },
      "outputs": [
        {
          "output_type": "execute_result",
          "data": {
            "text/plain": [
              "(24583, 71)"
            ]
          },
          "metadata": {},
          "execution_count": 11
        }
      ],
      "source": [
        "df_vereadores.shape\n"
      ]
    },
    {
      "cell_type": "code",
      "execution_count": 19,
      "id": "979940fa",
      "metadata": {
        "tags": [],
        "id": "979940fa",
        "outputId": "b504bae3-284f-4c18-ae30-e0fdbd1a8852",
        "colab": {
          "base_uri": "https://localhost:8080/",
          "height": 394
        }
      },
      "outputs": [
        {
          "output_type": "execute_result",
          "data": {
            "text/plain": [
              "       ANO_ELEICAO  CD_TIPO_ELEICAO  NR_TURNO    CD_ELEICAO         SG_UE  \\\n",
              "count      24583.0          24583.0   24583.0  24583.000000  24583.000000   \n",
              "mean        2020.0              2.0       1.0    426.408860   4934.148314   \n",
              "std            0.0              0.0       0.0      2.757078    663.648303   \n",
              "min         2020.0              2.0       1.0    426.000000   4006.000000   \n",
              "25%         2020.0              2.0       1.0    426.000000   4332.000000   \n",
              "50%         2020.0              2.0       1.0    426.000000   4774.000000   \n",
              "75%         2020.0              2.0       1.0    426.000000   5517.000000   \n",
              "max         2020.0              2.0       1.0    445.000000   6173.000000   \n",
              "\n",
              "       CD_CARGO  SQ_CANDIDATO  NR_CANDIDATO  NR_CPF_CANDIDATO  \\\n",
              "count   24583.0  2.458300e+04  24583.000000      2.458300e+04   \n",
              "mean       13.0  1.296959e+11  31086.054875      4.780648e+10   \n",
              "std         0.0  3.205320e+10  20829.576759      3.104649e+10   \n",
              "min        13.0  3.000063e+10  10000.000000     -4.000000e+00   \n",
              "25%        13.0  1.400008e+11  15015.000000      1.955834e+10   \n",
              "50%        13.0  1.400009e+11  22300.000000      5.162824e+10   \n",
              "75%        13.0  1.400011e+11  45133.000000      7.379923e+10   \n",
              "max        13.0  1.400013e+11  90999.000000      9.998375e+10   \n",
              "\n",
              "       CD_SITUACAO_CANDIDATURA  ...  CD_ESTADO_CIVIL   CD_COR_RACA  \\\n",
              "count             24583.000000  ...     24583.000000  24583.000000   \n",
              "mean                 11.470976  ...         2.224952      2.596022   \n",
              "std                   2.116963  ...         1.837225      0.888529   \n",
              "min                   3.000000  ...        -4.000000     -4.000000   \n",
              "25%                  12.000000  ...         1.000000      2.000000   \n",
              "50%                  12.000000  ...         1.000000      3.000000   \n",
              "75%                  12.000000  ...         3.000000      3.000000   \n",
              "max                  12.000000  ...         9.000000      6.000000   \n",
              "\n",
              "        CD_OCUPACAO  VR_DESPESA_MAX_CAMPANHA  CD_SIT_TOT_TURNO  \\\n",
              "count  24583.000000             24583.000000      24583.000000   \n",
              "mean     552.461376             59365.732494          4.286824   \n",
              "std      326.046922             93041.750641          1.283419   \n",
              "min       -4.000000                -4.000000         -1.000000   \n",
              "25%      265.000000             15568.960000          4.000000   \n",
              "50%      541.000000             24713.500000          5.000000   \n",
              "75%      999.000000             53698.780000          5.000000   \n",
              "max      999.000000            438043.030000          5.000000   \n",
              "\n",
              "       NR_PROTOCOLO_CANDIDATURA   NR_PROCESSO  CD_SITUACAO_CANDIDATO_PLEITO  \\\n",
              "count                   24583.0  2.458300e+04                  24583.000000   \n",
              "mean                       -1.0  6.002713e+18                      2.055974   \n",
              "std                         0.0  1.704343e+15                      1.468889   \n",
              "min                        -1.0  6.000168e+18                     -1.000000   \n",
              "25%                        -1.0  6.001442e+18                      2.000000   \n",
              "50%                        -1.0  6.002299e+18                      2.000000   \n",
              "75%                        -1.0  6.003640e+18                      2.000000   \n",
              "max                        -1.0  6.016571e+18                     20.000000   \n",
              "\n",
              "       CD_SITUACAO_CANDIDATO_URNA  CD_SITUACAO_CANDIDATO_TOT  \n",
              "count                24583.000000               24583.000000  \n",
              "mean                     2.088679                   2.128015  \n",
              "std                      1.624685                   1.670894  \n",
              "min                     -1.000000                  -1.000000  \n",
              "25%                      2.000000                   2.000000  \n",
              "50%                      2.000000                   2.000000  \n",
              "75%                      2.000000                   2.000000  \n",
              "max                     20.000000                  20.000000  \n",
              "\n",
              "[8 rows x 30 columns]"
            ],
            "text/html": [
              "\n",
              "\n",
              "  <div id=\"df-819ddc15-c9d1-439d-a7d3-fa5ad7070cbe\">\n",
              "    <div class=\"colab-df-container\">\n",
              "      <div>\n",
              "<style scoped>\n",
              "    .dataframe tbody tr th:only-of-type {\n",
              "        vertical-align: middle;\n",
              "    }\n",
              "\n",
              "    .dataframe tbody tr th {\n",
              "        vertical-align: top;\n",
              "    }\n",
              "\n",
              "    .dataframe thead th {\n",
              "        text-align: right;\n",
              "    }\n",
              "</style>\n",
              "<table border=\"1\" class=\"dataframe\">\n",
              "  <thead>\n",
              "    <tr style=\"text-align: right;\">\n",
              "      <th></th>\n",
              "      <th>ANO_ELEICAO</th>\n",
              "      <th>CD_TIPO_ELEICAO</th>\n",
              "      <th>NR_TURNO</th>\n",
              "      <th>CD_ELEICAO</th>\n",
              "      <th>SG_UE</th>\n",
              "      <th>CD_CARGO</th>\n",
              "      <th>SQ_CANDIDATO</th>\n",
              "      <th>NR_CANDIDATO</th>\n",
              "      <th>NR_CPF_CANDIDATO</th>\n",
              "      <th>CD_SITUACAO_CANDIDATURA</th>\n",
              "      <th>...</th>\n",
              "      <th>CD_ESTADO_CIVIL</th>\n",
              "      <th>CD_COR_RACA</th>\n",
              "      <th>CD_OCUPACAO</th>\n",
              "      <th>VR_DESPESA_MAX_CAMPANHA</th>\n",
              "      <th>CD_SIT_TOT_TURNO</th>\n",
              "      <th>NR_PROTOCOLO_CANDIDATURA</th>\n",
              "      <th>NR_PROCESSO</th>\n",
              "      <th>CD_SITUACAO_CANDIDATO_PLEITO</th>\n",
              "      <th>CD_SITUACAO_CANDIDATO_URNA</th>\n",
              "      <th>CD_SITUACAO_CANDIDATO_TOT</th>\n",
              "    </tr>\n",
              "  </thead>\n",
              "  <tbody>\n",
              "    <tr>\n",
              "      <th>count</th>\n",
              "      <td>24583.0</td>\n",
              "      <td>24583.0</td>\n",
              "      <td>24583.0</td>\n",
              "      <td>24583.000000</td>\n",
              "      <td>24583.000000</td>\n",
              "      <td>24583.0</td>\n",
              "      <td>2.458300e+04</td>\n",
              "      <td>24583.000000</td>\n",
              "      <td>2.458300e+04</td>\n",
              "      <td>24583.000000</td>\n",
              "      <td>...</td>\n",
              "      <td>24583.000000</td>\n",
              "      <td>24583.000000</td>\n",
              "      <td>24583.000000</td>\n",
              "      <td>24583.000000</td>\n",
              "      <td>24583.000000</td>\n",
              "      <td>24583.0</td>\n",
              "      <td>2.458300e+04</td>\n",
              "      <td>24583.000000</td>\n",
              "      <td>24583.000000</td>\n",
              "      <td>24583.000000</td>\n",
              "    </tr>\n",
              "    <tr>\n",
              "      <th>mean</th>\n",
              "      <td>2020.0</td>\n",
              "      <td>2.0</td>\n",
              "      <td>1.0</td>\n",
              "      <td>426.408860</td>\n",
              "      <td>4934.148314</td>\n",
              "      <td>13.0</td>\n",
              "      <td>1.296959e+11</td>\n",
              "      <td>31086.054875</td>\n",
              "      <td>4.780648e+10</td>\n",
              "      <td>11.470976</td>\n",
              "      <td>...</td>\n",
              "      <td>2.224952</td>\n",
              "      <td>2.596022</td>\n",
              "      <td>552.461376</td>\n",
              "      <td>59365.732494</td>\n",
              "      <td>4.286824</td>\n",
              "      <td>-1.0</td>\n",
              "      <td>6.002713e+18</td>\n",
              "      <td>2.055974</td>\n",
              "      <td>2.088679</td>\n",
              "      <td>2.128015</td>\n",
              "    </tr>\n",
              "    <tr>\n",
              "      <th>std</th>\n",
              "      <td>0.0</td>\n",
              "      <td>0.0</td>\n",
              "      <td>0.0</td>\n",
              "      <td>2.757078</td>\n",
              "      <td>663.648303</td>\n",
              "      <td>0.0</td>\n",
              "      <td>3.205320e+10</td>\n",
              "      <td>20829.576759</td>\n",
              "      <td>3.104649e+10</td>\n",
              "      <td>2.116963</td>\n",
              "      <td>...</td>\n",
              "      <td>1.837225</td>\n",
              "      <td>0.888529</td>\n",
              "      <td>326.046922</td>\n",
              "      <td>93041.750641</td>\n",
              "      <td>1.283419</td>\n",
              "      <td>0.0</td>\n",
              "      <td>1.704343e+15</td>\n",
              "      <td>1.468889</td>\n",
              "      <td>1.624685</td>\n",
              "      <td>1.670894</td>\n",
              "    </tr>\n",
              "    <tr>\n",
              "      <th>min</th>\n",
              "      <td>2020.0</td>\n",
              "      <td>2.0</td>\n",
              "      <td>1.0</td>\n",
              "      <td>426.000000</td>\n",
              "      <td>4006.000000</td>\n",
              "      <td>13.0</td>\n",
              "      <td>3.000063e+10</td>\n",
              "      <td>10000.000000</td>\n",
              "      <td>-4.000000e+00</td>\n",
              "      <td>3.000000</td>\n",
              "      <td>...</td>\n",
              "      <td>-4.000000</td>\n",
              "      <td>-4.000000</td>\n",
              "      <td>-4.000000</td>\n",
              "      <td>-4.000000</td>\n",
              "      <td>-1.000000</td>\n",
              "      <td>-1.0</td>\n",
              "      <td>6.000168e+18</td>\n",
              "      <td>-1.000000</td>\n",
              "      <td>-1.000000</td>\n",
              "      <td>-1.000000</td>\n",
              "    </tr>\n",
              "    <tr>\n",
              "      <th>25%</th>\n",
              "      <td>2020.0</td>\n",
              "      <td>2.0</td>\n",
              "      <td>1.0</td>\n",
              "      <td>426.000000</td>\n",
              "      <td>4332.000000</td>\n",
              "      <td>13.0</td>\n",
              "      <td>1.400008e+11</td>\n",
              "      <td>15015.000000</td>\n",
              "      <td>1.955834e+10</td>\n",
              "      <td>12.000000</td>\n",
              "      <td>...</td>\n",
              "      <td>1.000000</td>\n",
              "      <td>2.000000</td>\n",
              "      <td>265.000000</td>\n",
              "      <td>15568.960000</td>\n",
              "      <td>4.000000</td>\n",
              "      <td>-1.0</td>\n",
              "      <td>6.001442e+18</td>\n",
              "      <td>2.000000</td>\n",
              "      <td>2.000000</td>\n",
              "      <td>2.000000</td>\n",
              "    </tr>\n",
              "    <tr>\n",
              "      <th>50%</th>\n",
              "      <td>2020.0</td>\n",
              "      <td>2.0</td>\n",
              "      <td>1.0</td>\n",
              "      <td>426.000000</td>\n",
              "      <td>4774.000000</td>\n",
              "      <td>13.0</td>\n",
              "      <td>1.400009e+11</td>\n",
              "      <td>22300.000000</td>\n",
              "      <td>5.162824e+10</td>\n",
              "      <td>12.000000</td>\n",
              "      <td>...</td>\n",
              "      <td>1.000000</td>\n",
              "      <td>3.000000</td>\n",
              "      <td>541.000000</td>\n",
              "      <td>24713.500000</td>\n",
              "      <td>5.000000</td>\n",
              "      <td>-1.0</td>\n",
              "      <td>6.002299e+18</td>\n",
              "      <td>2.000000</td>\n",
              "      <td>2.000000</td>\n",
              "      <td>2.000000</td>\n",
              "    </tr>\n",
              "    <tr>\n",
              "      <th>75%</th>\n",
              "      <td>2020.0</td>\n",
              "      <td>2.0</td>\n",
              "      <td>1.0</td>\n",
              "      <td>426.000000</td>\n",
              "      <td>5517.000000</td>\n",
              "      <td>13.0</td>\n",
              "      <td>1.400011e+11</td>\n",
              "      <td>45133.000000</td>\n",
              "      <td>7.379923e+10</td>\n",
              "      <td>12.000000</td>\n",
              "      <td>...</td>\n",
              "      <td>3.000000</td>\n",
              "      <td>3.000000</td>\n",
              "      <td>999.000000</td>\n",
              "      <td>53698.780000</td>\n",
              "      <td>5.000000</td>\n",
              "      <td>-1.0</td>\n",
              "      <td>6.003640e+18</td>\n",
              "      <td>2.000000</td>\n",
              "      <td>2.000000</td>\n",
              "      <td>2.000000</td>\n",
              "    </tr>\n",
              "    <tr>\n",
              "      <th>max</th>\n",
              "      <td>2020.0</td>\n",
              "      <td>2.0</td>\n",
              "      <td>1.0</td>\n",
              "      <td>445.000000</td>\n",
              "      <td>6173.000000</td>\n",
              "      <td>13.0</td>\n",
              "      <td>1.400013e+11</td>\n",
              "      <td>90999.000000</td>\n",
              "      <td>9.998375e+10</td>\n",
              "      <td>12.000000</td>\n",
              "      <td>...</td>\n",
              "      <td>9.000000</td>\n",
              "      <td>6.000000</td>\n",
              "      <td>999.000000</td>\n",
              "      <td>438043.030000</td>\n",
              "      <td>5.000000</td>\n",
              "      <td>-1.0</td>\n",
              "      <td>6.016571e+18</td>\n",
              "      <td>20.000000</td>\n",
              "      <td>20.000000</td>\n",
              "      <td>20.000000</td>\n",
              "    </tr>\n",
              "  </tbody>\n",
              "</table>\n",
              "<p>8 rows × 30 columns</p>\n",
              "</div>\n",
              "      <button class=\"colab-df-convert\" onclick=\"convertToInteractive('df-819ddc15-c9d1-439d-a7d3-fa5ad7070cbe')\"\n",
              "              title=\"Convert this dataframe to an interactive table.\"\n",
              "              style=\"display:none;\">\n",
              "\n",
              "  <svg xmlns=\"http://www.w3.org/2000/svg\" height=\"24px\"viewBox=\"0 0 24 24\"\n",
              "       width=\"24px\">\n",
              "    <path d=\"M0 0h24v24H0V0z\" fill=\"none\"/>\n",
              "    <path d=\"M18.56 5.44l.94 2.06.94-2.06 2.06-.94-2.06-.94-.94-2.06-.94 2.06-2.06.94zm-11 1L8.5 8.5l.94-2.06 2.06-.94-2.06-.94L8.5 2.5l-.94 2.06-2.06.94zm10 10l.94 2.06.94-2.06 2.06-.94-2.06-.94-.94-2.06-.94 2.06-2.06.94z\"/><path d=\"M17.41 7.96l-1.37-1.37c-.4-.4-.92-.59-1.43-.59-.52 0-1.04.2-1.43.59L10.3 9.45l-7.72 7.72c-.78.78-.78 2.05 0 2.83L4 21.41c.39.39.9.59 1.41.59.51 0 1.02-.2 1.41-.59l7.78-7.78 2.81-2.81c.8-.78.8-2.07 0-2.86zM5.41 20L4 18.59l7.72-7.72 1.47 1.35L5.41 20z\"/>\n",
              "  </svg>\n",
              "      </button>\n",
              "\n",
              "\n",
              "\n",
              "    <div id=\"df-290a81c5-350e-4539-bfd4-da243de55e18\">\n",
              "      <button class=\"colab-df-quickchart\" onclick=\"quickchart('df-290a81c5-350e-4539-bfd4-da243de55e18')\"\n",
              "              title=\"Suggest charts.\"\n",
              "              style=\"display:none;\">\n",
              "\n",
              "<svg xmlns=\"http://www.w3.org/2000/svg\" height=\"24px\"viewBox=\"0 0 24 24\"\n",
              "     width=\"24px\">\n",
              "    <g>\n",
              "        <path d=\"M19 3H5c-1.1 0-2 .9-2 2v14c0 1.1.9 2 2 2h14c1.1 0 2-.9 2-2V5c0-1.1-.9-2-2-2zM9 17H7v-7h2v7zm4 0h-2V7h2v10zm4 0h-2v-4h2v4z\"/>\n",
              "    </g>\n",
              "</svg>\n",
              "      </button>\n",
              "    </div>\n",
              "\n",
              "<style>\n",
              "  .colab-df-quickchart {\n",
              "    background-color: #E8F0FE;\n",
              "    border: none;\n",
              "    border-radius: 50%;\n",
              "    cursor: pointer;\n",
              "    display: none;\n",
              "    fill: #1967D2;\n",
              "    height: 32px;\n",
              "    padding: 0 0 0 0;\n",
              "    width: 32px;\n",
              "  }\n",
              "\n",
              "  .colab-df-quickchart:hover {\n",
              "    background-color: #E2EBFA;\n",
              "    box-shadow: 0px 1px 2px rgba(60, 64, 67, 0.3), 0px 1px 3px 1px rgba(60, 64, 67, 0.15);\n",
              "    fill: #174EA6;\n",
              "  }\n",
              "\n",
              "  [theme=dark] .colab-df-quickchart {\n",
              "    background-color: #3B4455;\n",
              "    fill: #D2E3FC;\n",
              "  }\n",
              "\n",
              "  [theme=dark] .colab-df-quickchart:hover {\n",
              "    background-color: #434B5C;\n",
              "    box-shadow: 0px 1px 3px 1px rgba(0, 0, 0, 0.15);\n",
              "    filter: drop-shadow(0px 1px 2px rgba(0, 0, 0, 0.3));\n",
              "    fill: #FFFFFF;\n",
              "  }\n",
              "</style>\n",
              "\n",
              "    <script>\n",
              "      async function quickchart(key) {\n",
              "        const containerElement = document.querySelector('#' + key);\n",
              "        const charts = await google.colab.kernel.invokeFunction(\n",
              "            'suggestCharts', [key], {});\n",
              "      }\n",
              "    </script>\n",
              "\n",
              "      <script>\n",
              "\n",
              "function displayQuickchartButton(domScope) {\n",
              "  let quickchartButtonEl =\n",
              "    domScope.querySelector('#df-290a81c5-350e-4539-bfd4-da243de55e18 button.colab-df-quickchart');\n",
              "  quickchartButtonEl.style.display =\n",
              "    google.colab.kernel.accessAllowed ? 'block' : 'none';\n",
              "}\n",
              "\n",
              "        displayQuickchartButton(document);\n",
              "      </script>\n",
              "      <style>\n",
              "    .colab-df-container {\n",
              "      display:flex;\n",
              "      flex-wrap:wrap;\n",
              "      gap: 12px;\n",
              "    }\n",
              "\n",
              "    .colab-df-convert {\n",
              "      background-color: #E8F0FE;\n",
              "      border: none;\n",
              "      border-radius: 50%;\n",
              "      cursor: pointer;\n",
              "      display: none;\n",
              "      fill: #1967D2;\n",
              "      height: 32px;\n",
              "      padding: 0 0 0 0;\n",
              "      width: 32px;\n",
              "    }\n",
              "\n",
              "    .colab-df-convert:hover {\n",
              "      background-color: #E2EBFA;\n",
              "      box-shadow: 0px 1px 2px rgba(60, 64, 67, 0.3), 0px 1px 3px 1px rgba(60, 64, 67, 0.15);\n",
              "      fill: #174EA6;\n",
              "    }\n",
              "\n",
              "    [theme=dark] .colab-df-convert {\n",
              "      background-color: #3B4455;\n",
              "      fill: #D2E3FC;\n",
              "    }\n",
              "\n",
              "    [theme=dark] .colab-df-convert:hover {\n",
              "      background-color: #434B5C;\n",
              "      box-shadow: 0px 1px 3px 1px rgba(0, 0, 0, 0.15);\n",
              "      filter: drop-shadow(0px 1px 2px rgba(0, 0, 0, 0.3));\n",
              "      fill: #FFFFFF;\n",
              "    }\n",
              "  </style>\n",
              "\n",
              "      <script>\n",
              "        const buttonEl =\n",
              "          document.querySelector('#df-819ddc15-c9d1-439d-a7d3-fa5ad7070cbe button.colab-df-convert');\n",
              "        buttonEl.style.display =\n",
              "          google.colab.kernel.accessAllowed ? 'block' : 'none';\n",
              "\n",
              "        async function convertToInteractive(key) {\n",
              "          const element = document.querySelector('#df-819ddc15-c9d1-439d-a7d3-fa5ad7070cbe');\n",
              "          const dataTable =\n",
              "            await google.colab.kernel.invokeFunction('convertToInteractive',\n",
              "                                                     [key], {});\n",
              "          if (!dataTable) return;\n",
              "\n",
              "          const docLinkHtml = 'Like what you see? Visit the ' +\n",
              "            '<a target=\"_blank\" href=https://colab.research.google.com/notebooks/data_table.ipynb>data table notebook</a>'\n",
              "            + ' to learn more about interactive tables.';\n",
              "          element.innerHTML = '';\n",
              "          dataTable['output_type'] = 'display_data';\n",
              "          await google.colab.output.renderOutput(dataTable, element);\n",
              "          const docLink = document.createElement('div');\n",
              "          docLink.innerHTML = docLinkHtml;\n",
              "          element.appendChild(docLink);\n",
              "        }\n",
              "      </script>\n",
              "    </div>\n",
              "  </div>\n"
            ]
          },
          "metadata": {},
          "execution_count": 19
        }
      ],
      "source": [
        "df_vereadores.describe()"
      ]
    },
    {
      "cell_type": "markdown",
      "id": "5fb2032f",
      "metadata": {
        "id": "5fb2032f"
      },
      "source": [
        "Para gerar relatórios interativos em HTML a partir de um dataframe do pandas usaremos a biblioteca Pandas Profiling, com ele para cada coluna será apresentado estatístico correspondente ao tipo de dado."
      ]
    },
    {
      "cell_type": "code",
      "execution_count": null,
      "id": "7add4172",
      "metadata": {
        "tags": [],
        "id": "7add4172"
      },
      "outputs": [],
      "source": [
        "!pip install pandas-profiling\n",
        "import numpy as np\n",
        "from pandas_profiling import ProfileReport\n"
      ]
    },
    {
      "cell_type": "code",
      "execution_count": null,
      "id": "adc73219",
      "metadata": {
        "tags": [],
        "id": "adc73219"
      },
      "outputs": [],
      "source": [
        "profile = ProfileReport(df_vereadores, title=\"Introdução - Pandas Profiling Report\")"
      ]
    },
    {
      "cell_type": "code",
      "execution_count": null,
      "id": "4c530b6f",
      "metadata": {
        "scrolled": true,
        "tags": [],
        "id": "4c530b6f",
        "outputId": "4fc5abb1-8369-4de0-a861-619723b5e49a",
        "colab": {
          "base_uri": "https://localhost:8080/",
          "height": 49,
          "referenced_widgets": [
            "b0857189590c40c9b9a92d7f84283663",
            "66823f3dddb74c449f7934939b2794ec",
            "010940cb93ac4899a671265f7b2b93c6",
            "81fb608a85a24e0abc4999ea1024a795",
            "cefe1b3ec8694cb8bc6f4a2a9bc34867",
            "b998162b29a244c1aa5fa7d1e18504e8",
            "7587c29173b14b4a99cb9b0c75c15442",
            "7f5a77f25a6748caa810ea7605a226ec",
            "236f6d6259e8496b9ace4c63007167af",
            "65551128272140dea6aa3fa932632b9c",
            "b3580dcfc5a0466f9764f2b2e1dfaba2"
          ]
        }
      },
      "outputs": [
        {
          "output_type": "display_data",
          "data": {
            "text/plain": [
              "Export report to file:   0%|          | 0/1 [00:00<?, ?it/s]"
            ],
            "application/vnd.jupyter.widget-view+json": {
              "version_major": 2,
              "version_minor": 0,
              "model_id": "b0857189590c40c9b9a92d7f84283663"
            }
          },
          "metadata": {}
        }
      ],
      "source": [
        "profile.to_file(output_file=\"relatorio_eleicoes_vereadores_2020_ap_pa.html\")"
      ]
    },
    {
      "cell_type": "markdown",
      "id": "ea1dbad2",
      "metadata": {
        "id": "ea1dbad2"
      },
      "source": [
        "## Em AP e PA, houveram quantas candidaturas para a prefeitura?"
      ]
    },
    {
      "cell_type": "code",
      "execution_count": 14,
      "id": "a7ae5dad",
      "metadata": {
        "id": "a7ae5dad"
      },
      "outputs": [],
      "source": [
        "# Para responder essa pergunta, basta voltar e ao invés de criar um DataFrame\n",
        "# para vereadores, na coluna CD_CARGO os números 11, 12  correspondem a prefeito\n",
        "# vice-prefeito respectivamente.\n",
        "\n",
        "# Basta fazer uma cópia df com o cargo 11 e chamar de prefeitos\n",
        "df_prefeitos = df_completo[df_completo['CD_CARGO'] == 11].copy()"
      ]
    },
    {
      "cell_type": "code",
      "source": [
        "# Portanto, para saber a quantidade de candidaturas a prefeito, basta olha a\n",
        "# quantidade de linhas dessa tabela.\n",
        "df_prefeitos.shape"
      ],
      "metadata": {
        "id": "QnCi66NTNBjo",
        "outputId": "15c7253b-5819-4e1f-bd6d-ae6b64d127e4",
        "colab": {
          "base_uri": "https://localhost:8080/"
        }
      },
      "id": "QnCi66NTNBjo",
      "execution_count": 16,
      "outputs": [
        {
          "output_type": "execute_result",
          "data": {
            "text/plain": [
              "(770, 71)"
            ]
          },
          "metadata": {},
          "execution_count": 16
        }
      ]
    },
    {
      "cell_type": "markdown",
      "id": "c18681a1",
      "metadata": {
        "id": "c18681a1"
      },
      "source": [
        "### Aula 9: medidas de tendência central e dispersão\n",
        "\n",
        "As medidas de tendência central servem para determinar o valor central de uma distribuição. Vamos explorar mais um pouco nosso dataframe e descobrir qual a moda (valor que mais se repete) da colina 'SG_PARTIDO'"
      ]
    },
    {
      "cell_type": "code",
      "execution_count": null,
      "id": "a1896ac0",
      "metadata": {
        "tags": [],
        "id": "a1896ac0",
        "outputId": "607503a0-619b-4ac7-c55f-cc5b6b70f0df",
        "colab": {
          "base_uri": "https://localhost:8080/"
        }
      },
      "outputs": [
        {
          "output_type": "execute_result",
          "data": {
            "text/plain": [
              "0    MDB\n",
              "Name: SG_PARTIDO, dtype: object"
            ]
          },
          "metadata": {},
          "execution_count": 24
        }
      ],
      "source": [
        "df_vereadores['SG_PARTIDO'].mode()"
      ]
    },
    {
      "cell_type": "markdown",
      "id": "9760d49a",
      "metadata": {
        "id": "9760d49a"
      },
      "source": [
        "A média aritmética da coluna 'NR_IDADE_DATA_POSSE' é:"
      ]
    },
    {
      "cell_type": "code",
      "execution_count": null,
      "id": "525f59a3",
      "metadata": {
        "tags": [],
        "id": "525f59a3",
        "outputId": "33836439-2bf8-48e8-e121-72f66ec9f3ca"
      },
      "outputs": [
        {
          "data": {
            "text/plain": [
              "43.164185176145146"
            ]
          },
          "execution_count": 41,
          "metadata": {},
          "output_type": "execute_result"
        }
      ],
      "source": [
        "df_vereadores['NR_IDADE_DATA_POSSE'].mean()"
      ]
    },
    {
      "cell_type": "markdown",
      "id": "11f8b9cb",
      "metadata": {
        "id": "11f8b9cb"
      },
      "source": [
        "Continuando a explorar a idade das pessoas candidatas na data da posse, queremos saber qual é o valor que ocupa a posição central do conjunto de dados, após a ordenação dos valores (mediana).\n"
      ]
    },
    {
      "cell_type": "code",
      "execution_count": null,
      "id": "3db873c0",
      "metadata": {
        "tags": [],
        "id": "3db873c0",
        "outputId": "ddcd3165-2be6-4bf2-b018-5890fdfce9ac"
      },
      "outputs": [
        {
          "data": {
            "text/plain": [
              "43.0"
            ]
          },
          "execution_count": 42,
          "metadata": {},
          "output_type": "execute_result"
        }
      ],
      "source": [
        "df_vereadores['NR_IDADE_DATA_POSSE'].median()"
      ]
    },
    {
      "cell_type": "markdown",
      "id": "5e26e703",
      "metadata": {
        "id": "5e26e703"
      },
      "source": [
        "Qual a variância do dado 'NR_IDADE_DATA_POSSE'?"
      ]
    },
    {
      "cell_type": "code",
      "execution_count": null,
      "id": "e4241393",
      "metadata": {
        "tags": [],
        "id": "e4241393",
        "outputId": "4514d630-4667-4639-87c8-3df43fedc369"
      },
      "outputs": [
        {
          "data": {
            "text/plain": [
              "118.23389400874976"
            ]
          },
          "execution_count": 43,
          "metadata": {},
          "output_type": "execute_result"
        }
      ],
      "source": [
        "df_vereadores['NR_IDADE_DATA_POSSE'].var()"
      ]
    },
    {
      "cell_type": "markdown",
      "id": "880c407e",
      "metadata": {
        "id": "880c407e"
      },
      "source": [
        "Qual o desvio padrão do dado 'NR_IDADE_DATA_POSSE'?"
      ]
    },
    {
      "cell_type": "code",
      "execution_count": null,
      "id": "5031f1f4",
      "metadata": {
        "tags": [],
        "id": "5031f1f4",
        "outputId": "70cdbd4b-098e-45f7-c653-d280f2ac7a4b"
      },
      "outputs": [
        {
          "data": {
            "text/plain": [
              "10.873541005980975"
            ]
          },
          "execution_count": 44,
          "metadata": {},
          "output_type": "execute_result"
        }
      ],
      "source": [
        "df_vereadores['NR_IDADE_DATA_POSSE'].std()"
      ]
    },
    {
      "cell_type": "markdown",
      "id": "c6fbfb0b",
      "metadata": {
        "id": "c6fbfb0b"
      },
      "source": [
        "## Qual a média, moda e mediana do 'VR_DESPESA_MAX_CAMPANHA'?"
      ]
    },
    {
      "cell_type": "code",
      "execution_count": null,
      "id": "6c0154e6",
      "metadata": {
        "id": "6c0154e6"
      },
      "outputs": [],
      "source": []
    },
    {
      "cell_type": "markdown",
      "id": "818a2d50",
      "metadata": {
        "id": "818a2d50"
      },
      "source": [
        "### Aula 10: Outliers e valores faltantes\n",
        "\n",
        "\n",
        "De acordo com o dicionário de dados do conjunto de dados do TSE, os valores faltantes estão preenchidos com #NULO#, no entanto o Pandas não reconhece essa palavra como um missing. Faremos a substituição da string \"#NULO#\" pelo valor `None` nas colunas com valores categóricos."
      ]
    },
    {
      "cell_type": "code",
      "execution_count": null,
      "id": "273c6db3",
      "metadata": {
        "tags": [],
        "id": "273c6db3"
      },
      "outputs": [],
      "source": [
        "colunas_categoricas = ['NM_TIPO_ELEICAO', 'DS_ELEICAO', 'TP_ABRANGENCIA', 'SG_UF', 'NM_UE', 'DS_CARGO',\n",
        "                       'NM_CANDIDATO', 'NM_URNA_CANDIDATO', 'NM_SOCIAL_CANDIDATO', 'NM_EMAIL',\n",
        "                       'DS_SITUACAO_CANDIDATURA', 'DS_DETALHE_SITUACAO_CAND', 'TP_AGREMIACAO', 'SG_PARTIDO',\n",
        "                       'NM_PARTIDO', 'NM_COLIGACAO', 'DS_COMPOSICAO_COLIGACAO', 'DS_NACIONALIDADE',\n",
        "                       'SG_UF_NASCIMENTO', 'NM_MUNICIPIO_NASCIMENTO', 'DS_GENERO', 'DS_GRAU_INSTRUCAO',\n",
        "                       'DS_ESTADO_CIVIL', 'DS_COR_RACA', 'DS_OCUPACAO', 'VR_DESPESA_MAX_CAMPANHA',\n",
        "                       'DS_SIT_TOT_TURNO', 'ST_REELEICAO', 'ST_DECLARAR_BENS', 'DS_SITUACAO_CANDIDATO_PLEITO',\n",
        "                       'DS_SITUACAO_CANDIDATO_URNA', 'ST_CANDIDATO_INSERIDO_URNA'\n",
        "                      ]\n"
      ]
    },
    {
      "cell_type": "code",
      "execution_count": null,
      "id": "ee7060d4",
      "metadata": {
        "tags": [],
        "id": "ee7060d4"
      },
      "outputs": [],
      "source": [
        "df_vereadores[colunas_categoricas] = df_vereadores.loc[:, colunas_categoricas].replace({'#NULO#': None})"
      ]
    },
    {
      "cell_type": "code",
      "execution_count": null,
      "id": "3a263f5b",
      "metadata": {
        "tags": [],
        "id": "3a263f5b",
        "outputId": "54e91c83-1441-4272-f3e7-c9bc2e2e182e"
      },
      "outputs": [
        {
          "name": "stdout",
          "output_type": "stream",
          "text": [
            "<class 'pandas.core.frame.DataFrame'>\n",
            "Index: 24583 entries, 0 to 26152\n",
            "Data columns (total 71 columns):\n",
            " #   Column                         Non-Null Count  Dtype  \n",
            "---  ------                         --------------  -----  \n",
            " 0   DT_GERACAO                     24583 non-null  object \n",
            " 1   HH_GERACAO                     24583 non-null  object \n",
            " 2   ANO_ELEICAO                    24583 non-null  int64  \n",
            " 3   CD_TIPO_ELEICAO                24583 non-null  int64  \n",
            " 4   NM_TIPO_ELEICAO                24583 non-null  object \n",
            " 5   NR_TURNO                       24583 non-null  int64  \n",
            " 6   CD_ELEICAO                     24583 non-null  int64  \n",
            " 7   DS_ELEICAO                     24583 non-null  object \n",
            " 8   DT_ELEICAO                     24583 non-null  object \n",
            " 9   TP_ABRANGENCIA                 24583 non-null  object \n",
            " 10  SG_UF                          24583 non-null  object \n",
            " 11  SG_UE                          24583 non-null  int64  \n",
            " 12  NM_UE                          24583 non-null  object \n",
            " 13  CD_CARGO                       24583 non-null  int64  \n",
            " 14  DS_CARGO                       24583 non-null  object \n",
            " 15  SQ_CANDIDATO                   24583 non-null  int64  \n",
            " 16  NR_CANDIDATO                   24583 non-null  int64  \n",
            " 17  NM_CANDIDATO                   24583 non-null  object \n",
            " 18  NM_URNA_CANDIDATO              24583 non-null  object \n",
            " 19  NM_SOCIAL_CANDIDATO            9 non-null      object \n",
            " 20  NR_CPF_CANDIDATO               24583 non-null  int64  \n",
            " 21  NM_EMAIL                       24583 non-null  object \n",
            " 22  CD_SITUACAO_CANDIDATURA        24583 non-null  int64  \n",
            " 23  DS_SITUACAO_CANDIDATURA        24583 non-null  object \n",
            " 24  CD_DETALHE_SITUACAO_CAND       24583 non-null  int64  \n",
            " 25  DS_DETALHE_SITUACAO_CAND       24583 non-null  object \n",
            " 26  TP_AGREMIACAO                  24583 non-null  object \n",
            " 27  NR_PARTIDO                     24583 non-null  int64  \n",
            " 28  SG_PARTIDO                     24583 non-null  object \n",
            " 29  NM_PARTIDO                     24583 non-null  object \n",
            " 30  NR_FEDERACAO                   24583 non-null  int64  \n",
            " 31  NM_FEDERACAO                   24583 non-null  object \n",
            " 32  SG_FEDERACAO                   24583 non-null  object \n",
            " 33  DS_COMPOSICAO_FEDERACAO        24583 non-null  object \n",
            " 34  SQ_COLIGACAO                   24583 non-null  int64  \n",
            " 35  NM_COLIGACAO                   24583 non-null  object \n",
            " 36  DS_COMPOSICAO_COLIGACAO        24583 non-null  object \n",
            " 37  CD_NACIONALIDADE               24583 non-null  int64  \n",
            " 38  DS_NACIONALIDADE               24583 non-null  object \n",
            " 39  SG_UF_NASCIMENTO               24583 non-null  object \n",
            " 40  CD_MUNICIPIO_NASCIMENTO        24583 non-null  int64  \n",
            " 41  NM_MUNICIPIO_NASCIMENTO        24583 non-null  object \n",
            " 42  DT_NASCIMENTO                  24582 non-null  object \n",
            " 43  NR_IDADE_DATA_POSSE            24582 non-null  float64\n",
            " 44  NR_TITULO_ELEITORAL_CANDIDATO  24583 non-null  int64  \n",
            " 45  CD_GENERO                      24583 non-null  int64  \n",
            " 46  DS_GENERO                      24583 non-null  object \n",
            " 47  CD_GRAU_INSTRUCAO              24583 non-null  int64  \n",
            " 48  DS_GRAU_INSTRUCAO              24583 non-null  object \n",
            " 49  CD_ESTADO_CIVIL                24583 non-null  int64  \n",
            " 50  DS_ESTADO_CIVIL                24583 non-null  object \n",
            " 51  CD_COR_RACA                    24583 non-null  int64  \n",
            " 52  DS_COR_RACA                    24583 non-null  object \n",
            " 53  CD_OCUPACAO                    24583 non-null  int64  \n",
            " 54  DS_OCUPACAO                    24583 non-null  object \n",
            " 55  VR_DESPESA_MAX_CAMPANHA        24583 non-null  float64\n",
            " 56  CD_SIT_TOT_TURNO               24583 non-null  int64  \n",
            " 57  DS_SIT_TOT_TURNO               23686 non-null  object \n",
            " 58  ST_REELEICAO                   24583 non-null  object \n",
            " 59  ST_DECLARAR_BENS               24583 non-null  object \n",
            " 60  NR_PROTOCOLO_CANDIDATURA       24583 non-null  int64  \n",
            " 61  NR_PROCESSO                    24583 non-null  int64  \n",
            " 62  CD_SITUACAO_CANDIDATO_PLEITO   24583 non-null  int64  \n",
            " 63  DS_SITUACAO_CANDIDATO_PLEITO   23686 non-null  object \n",
            " 64  CD_SITUACAO_CANDIDATO_URNA     24583 non-null  int64  \n",
            " 65  DS_SITUACAO_CANDIDATO_URNA     23686 non-null  object \n",
            " 66  ST_CANDIDATO_INSERIDO_URNA     24583 non-null  object \n",
            " 67  NM_TIPO_DESTINACAO_VOTOS       24583 non-null  object \n",
            " 68  CD_SITUACAO_CANDIDATO_TOT      24583 non-null  int64  \n",
            " 69  DS_SITUACAO_CANDIDATO_TOT      24583 non-null  object \n",
            " 70  ST_PREST_CONTAS                24583 non-null  object \n",
            "dtypes: float64(2), int64(28), object(41)\n",
            "memory usage: 14.0+ MB\n"
          ]
        }
      ],
      "source": [
        "df_vereadores.info()"
      ]
    },
    {
      "cell_type": "markdown",
      "id": "a770540f",
      "metadata": {
        "id": "a770540f"
      },
      "source": [
        "Geraremos um novo relatório usando o Pandas Profiling para visualizar as mudanças."
      ]
    },
    {
      "cell_type": "code",
      "execution_count": null,
      "id": "b3642341",
      "metadata": {
        "tags": [],
        "id": "b3642341",
        "outputId": "411c936f-f624-48a2-bf9e-795e878dbd8c"
      },
      "outputs": [
        {
          "name": "stderr",
          "output_type": "stream",
          "text": [
            "Summarize dataset:  98%|▉| 398/405 [01:02<00:01,  6.37it/s, Missing diagram bar]\n"
          ]
        },
        {
          "ename": "AttributeError",
          "evalue": "'DataFrame' object has no attribute '_convert'",
          "output_type": "error",
          "traceback": [
            "\u001b[0;31m---------------------------------------------------------------------------\u001b[0m",
            "\u001b[0;31mAttributeError\u001b[0m                            Traceback (most recent call last)",
            "\u001b[0;32m/tmp/ipykernel_19778/306241898.py\u001b[0m in \u001b[0;36m?\u001b[0;34m()\u001b[0m\n\u001b[1;32m      1\u001b[0m \u001b[0mprofile\u001b[0m \u001b[0;34m=\u001b[0m \u001b[0mProfileReport\u001b[0m\u001b[0;34m(\u001b[0m\u001b[0mdf_vereadores\u001b[0m\u001b[0;34m,\u001b[0m \u001b[0mtitle\u001b[0m\u001b[0;34m=\u001b[0m\u001b[0;34m\"Limpeza dos dados - Pandas Profiling Report\"\u001b[0m\u001b[0;34m)\u001b[0m\u001b[0;34m\u001b[0m\u001b[0;34m\u001b[0m\u001b[0m\n\u001b[0;32m----> 2\u001b[0;31m \u001b[0mprofile\u001b[0m\u001b[0;34m.\u001b[0m\u001b[0mto_file\u001b[0m\u001b[0;34m(\u001b[0m\u001b[0moutput_file\u001b[0m\u001b[0;34m=\u001b[0m\u001b[0;34m\"relatorio_eleicoes_vereadores_2020_ap_pa_limpo.html\"\u001b[0m\u001b[0;34m)\u001b[0m\u001b[0;34m\u001b[0m\u001b[0;34m\u001b[0m\u001b[0m\n\u001b[0m",
            "\u001b[0;32m~/Projetos/python-inovacao-civica/.venv/lib/python3.10/site-packages/typeguard/__init__.py\u001b[0m in \u001b[0;36m?\u001b[0;34m(*args, **kwargs)\u001b[0m\n\u001b[1;32m   1030\u001b[0m     \u001b[0;32mdef\u001b[0m \u001b[0mwrapper\u001b[0m\u001b[0;34m(\u001b[0m\u001b[0;34m*\u001b[0m\u001b[0margs\u001b[0m\u001b[0;34m,\u001b[0m \u001b[0;34m**\u001b[0m\u001b[0mkwargs\u001b[0m\u001b[0;34m)\u001b[0m\u001b[0;34m:\u001b[0m\u001b[0;34m\u001b[0m\u001b[0;34m\u001b[0m\u001b[0m\n\u001b[1;32m   1031\u001b[0m         \u001b[0mmemo\u001b[0m \u001b[0;34m=\u001b[0m \u001b[0m_CallMemo\u001b[0m\u001b[0;34m(\u001b[0m\u001b[0mpython_func\u001b[0m\u001b[0;34m,\u001b[0m \u001b[0m_localns\u001b[0m\u001b[0;34m,\u001b[0m \u001b[0margs\u001b[0m\u001b[0;34m=\u001b[0m\u001b[0margs\u001b[0m\u001b[0;34m,\u001b[0m \u001b[0mkwargs\u001b[0m\u001b[0;34m=\u001b[0m\u001b[0mkwargs\u001b[0m\u001b[0;34m)\u001b[0m\u001b[0;34m\u001b[0m\u001b[0;34m\u001b[0m\u001b[0m\n\u001b[1;32m   1032\u001b[0m         \u001b[0mcheck_argument_types\u001b[0m\u001b[0;34m(\u001b[0m\u001b[0mmemo\u001b[0m\u001b[0;34m)\u001b[0m\u001b[0;34m\u001b[0m\u001b[0;34m\u001b[0m\u001b[0m\n\u001b[0;32m-> 1033\u001b[0;31m         \u001b[0mretval\u001b[0m \u001b[0;34m=\u001b[0m \u001b[0mfunc\u001b[0m\u001b[0;34m(\u001b[0m\u001b[0;34m*\u001b[0m\u001b[0margs\u001b[0m\u001b[0;34m,\u001b[0m \u001b[0;34m**\u001b[0m\u001b[0mkwargs\u001b[0m\u001b[0;34m)\u001b[0m\u001b[0;34m\u001b[0m\u001b[0;34m\u001b[0m\u001b[0m\n\u001b[0m\u001b[1;32m   1034\u001b[0m         \u001b[0;32mtry\u001b[0m\u001b[0;34m:\u001b[0m\u001b[0;34m\u001b[0m\u001b[0;34m\u001b[0m\u001b[0m\n\u001b[1;32m   1035\u001b[0m             \u001b[0mcheck_return_type\u001b[0m\u001b[0;34m(\u001b[0m\u001b[0mretval\u001b[0m\u001b[0;34m,\u001b[0m \u001b[0mmemo\u001b[0m\u001b[0;34m)\u001b[0m\u001b[0;34m\u001b[0m\u001b[0;34m\u001b[0m\u001b[0m\n\u001b[1;32m   1036\u001b[0m         \u001b[0;32mexcept\u001b[0m \u001b[0mTypeError\u001b[0m \u001b[0;32mas\u001b[0m \u001b[0mexc\u001b[0m\u001b[0;34m:\u001b[0m\u001b[0;34m\u001b[0m\u001b[0;34m\u001b[0m\u001b[0m\n",
            "\u001b[0;32m~/Projetos/python-inovacao-civica/.venv/lib/python3.10/site-packages/pandas_profiling/profile_report.py\u001b[0m in \u001b[0;36m?\u001b[0;34m(self, output_file, silent)\u001b[0m\n\u001b[1;32m    305\u001b[0m                 \u001b[0;32mif\u001b[0m \u001b[0mself\u001b[0m\u001b[0;34m.\u001b[0m\u001b[0mconfig\u001b[0m\u001b[0;34m.\u001b[0m\u001b[0mhtml\u001b[0m\u001b[0;34m.\u001b[0m\u001b[0massets_prefix\u001b[0m \u001b[0;32mis\u001b[0m \u001b[0;32mNone\u001b[0m\u001b[0;34m:\u001b[0m\u001b[0;34m\u001b[0m\u001b[0;34m\u001b[0m\u001b[0m\n\u001b[1;32m    306\u001b[0m                     \u001b[0mself\u001b[0m\u001b[0;34m.\u001b[0m\u001b[0mconfig\u001b[0m\u001b[0;34m.\u001b[0m\u001b[0mhtml\u001b[0m\u001b[0;34m.\u001b[0m\u001b[0massets_prefix\u001b[0m \u001b[0;34m=\u001b[0m \u001b[0mstr\u001b[0m\u001b[0;34m(\u001b[0m\u001b[0moutput_file\u001b[0m\u001b[0;34m.\u001b[0m\u001b[0mstem\u001b[0m\u001b[0;34m)\u001b[0m \u001b[0;34m+\u001b[0m \u001b[0;34m\"_assets\"\u001b[0m\u001b[0;34m\u001b[0m\u001b[0;34m\u001b[0m\u001b[0m\n\u001b[1;32m    307\u001b[0m                 \u001b[0mcreate_html_assets\u001b[0m\u001b[0;34m(\u001b[0m\u001b[0mself\u001b[0m\u001b[0;34m.\u001b[0m\u001b[0mconfig\u001b[0m\u001b[0;34m,\u001b[0m \u001b[0moutput_file\u001b[0m\u001b[0;34m)\u001b[0m\u001b[0;34m\u001b[0m\u001b[0;34m\u001b[0m\u001b[0m\n\u001b[1;32m    308\u001b[0m \u001b[0;34m\u001b[0m\u001b[0m\n\u001b[0;32m--> 309\u001b[0;31m             \u001b[0mdata\u001b[0m \u001b[0;34m=\u001b[0m \u001b[0mself\u001b[0m\u001b[0;34m.\u001b[0m\u001b[0mto_html\u001b[0m\u001b[0;34m(\u001b[0m\u001b[0;34m)\u001b[0m\u001b[0;34m\u001b[0m\u001b[0;34m\u001b[0m\u001b[0m\n\u001b[0m\u001b[1;32m    310\u001b[0m \u001b[0;34m\u001b[0m\u001b[0m\n\u001b[1;32m    311\u001b[0m             \u001b[0;32mif\u001b[0m \u001b[0moutput_file\u001b[0m\u001b[0;34m.\u001b[0m\u001b[0msuffix\u001b[0m \u001b[0;34m!=\u001b[0m \u001b[0;34m\".html\"\u001b[0m\u001b[0;34m:\u001b[0m\u001b[0;34m\u001b[0m\u001b[0;34m\u001b[0m\u001b[0m\n\u001b[1;32m    312\u001b[0m                 \u001b[0msuffix\u001b[0m \u001b[0;34m=\u001b[0m \u001b[0moutput_file\u001b[0m\u001b[0;34m.\u001b[0m\u001b[0msuffix\u001b[0m\u001b[0;34m\u001b[0m\u001b[0;34m\u001b[0m\u001b[0m\n",
            "\u001b[0;32m~/Projetos/python-inovacao-civica/.venv/lib/python3.10/site-packages/typeguard/__init__.py\u001b[0m in \u001b[0;36m?\u001b[0;34m(*args, **kwargs)\u001b[0m\n\u001b[1;32m   1030\u001b[0m     \u001b[0;32mdef\u001b[0m \u001b[0mwrapper\u001b[0m\u001b[0;34m(\u001b[0m\u001b[0;34m*\u001b[0m\u001b[0margs\u001b[0m\u001b[0;34m,\u001b[0m \u001b[0;34m**\u001b[0m\u001b[0mkwargs\u001b[0m\u001b[0;34m)\u001b[0m\u001b[0;34m:\u001b[0m\u001b[0;34m\u001b[0m\u001b[0;34m\u001b[0m\u001b[0m\n\u001b[1;32m   1031\u001b[0m         \u001b[0mmemo\u001b[0m \u001b[0;34m=\u001b[0m \u001b[0m_CallMemo\u001b[0m\u001b[0;34m(\u001b[0m\u001b[0mpython_func\u001b[0m\u001b[0;34m,\u001b[0m \u001b[0m_localns\u001b[0m\u001b[0;34m,\u001b[0m \u001b[0margs\u001b[0m\u001b[0;34m=\u001b[0m\u001b[0margs\u001b[0m\u001b[0;34m,\u001b[0m \u001b[0mkwargs\u001b[0m\u001b[0;34m=\u001b[0m\u001b[0mkwargs\u001b[0m\u001b[0;34m)\u001b[0m\u001b[0;34m\u001b[0m\u001b[0;34m\u001b[0m\u001b[0m\n\u001b[1;32m   1032\u001b[0m         \u001b[0mcheck_argument_types\u001b[0m\u001b[0;34m(\u001b[0m\u001b[0mmemo\u001b[0m\u001b[0;34m)\u001b[0m\u001b[0;34m\u001b[0m\u001b[0;34m\u001b[0m\u001b[0m\n\u001b[0;32m-> 1033\u001b[0;31m         \u001b[0mretval\u001b[0m \u001b[0;34m=\u001b[0m \u001b[0mfunc\u001b[0m\u001b[0;34m(\u001b[0m\u001b[0;34m*\u001b[0m\u001b[0margs\u001b[0m\u001b[0;34m,\u001b[0m \u001b[0;34m**\u001b[0m\u001b[0mkwargs\u001b[0m\u001b[0;34m)\u001b[0m\u001b[0;34m\u001b[0m\u001b[0;34m\u001b[0m\u001b[0m\n\u001b[0m\u001b[1;32m   1034\u001b[0m         \u001b[0;32mtry\u001b[0m\u001b[0;34m:\u001b[0m\u001b[0;34m\u001b[0m\u001b[0;34m\u001b[0m\u001b[0m\n\u001b[1;32m   1035\u001b[0m             \u001b[0mcheck_return_type\u001b[0m\u001b[0;34m(\u001b[0m\u001b[0mretval\u001b[0m\u001b[0;34m,\u001b[0m \u001b[0mmemo\u001b[0m\u001b[0;34m)\u001b[0m\u001b[0;34m\u001b[0m\u001b[0;34m\u001b[0m\u001b[0m\n\u001b[1;32m   1036\u001b[0m         \u001b[0;32mexcept\u001b[0m \u001b[0mTypeError\u001b[0m \u001b[0;32mas\u001b[0m \u001b[0mexc\u001b[0m\u001b[0;34m:\u001b[0m\u001b[0;34m\u001b[0m\u001b[0;34m\u001b[0m\u001b[0m\n",
            "\u001b[0;32m~/Projetos/python-inovacao-civica/.venv/lib/python3.10/site-packages/pandas_profiling/profile_report.py\u001b[0m in \u001b[0;36m?\u001b[0;34m(self)\u001b[0m\n\u001b[1;32m    416\u001b[0m         \u001b[0mReturns\u001b[0m\u001b[0;34m:\u001b[0m\u001b[0;34m\u001b[0m\u001b[0;34m\u001b[0m\u001b[0m\n\u001b[1;32m    417\u001b[0m             \u001b[0mProfiling\u001b[0m \u001b[0mreport\u001b[0m \u001b[0mhtml\u001b[0m \u001b[0mincluding\u001b[0m \u001b[0mwrapper\u001b[0m\u001b[0;34m.\u001b[0m\u001b[0;34m\u001b[0m\u001b[0;34m\u001b[0m\u001b[0m\n\u001b[1;32m    418\u001b[0m \u001b[0;34m\u001b[0m\u001b[0m\n\u001b[1;32m    419\u001b[0m         \"\"\"\n\u001b[0;32m--> 420\u001b[0;31m         \u001b[0;32mreturn\u001b[0m \u001b[0mself\u001b[0m\u001b[0;34m.\u001b[0m\u001b[0mhtml\u001b[0m\u001b[0;34m\u001b[0m\u001b[0;34m\u001b[0m\u001b[0m\n\u001b[0m",
            "\u001b[0;32m~/Projetos/python-inovacao-civica/.venv/lib/python3.10/site-packages/typeguard/__init__.py\u001b[0m in \u001b[0;36m?\u001b[0;34m(*args, **kwargs)\u001b[0m\n\u001b[1;32m   1030\u001b[0m     \u001b[0;32mdef\u001b[0m \u001b[0mwrapper\u001b[0m\u001b[0;34m(\u001b[0m\u001b[0;34m*\u001b[0m\u001b[0margs\u001b[0m\u001b[0;34m,\u001b[0m \u001b[0;34m**\u001b[0m\u001b[0mkwargs\u001b[0m\u001b[0;34m)\u001b[0m\u001b[0;34m:\u001b[0m\u001b[0;34m\u001b[0m\u001b[0;34m\u001b[0m\u001b[0m\n\u001b[1;32m   1031\u001b[0m         \u001b[0mmemo\u001b[0m \u001b[0;34m=\u001b[0m \u001b[0m_CallMemo\u001b[0m\u001b[0;34m(\u001b[0m\u001b[0mpython_func\u001b[0m\u001b[0;34m,\u001b[0m \u001b[0m_localns\u001b[0m\u001b[0;34m,\u001b[0m \u001b[0margs\u001b[0m\u001b[0;34m=\u001b[0m\u001b[0margs\u001b[0m\u001b[0;34m,\u001b[0m \u001b[0mkwargs\u001b[0m\u001b[0;34m=\u001b[0m\u001b[0mkwargs\u001b[0m\u001b[0;34m)\u001b[0m\u001b[0;34m\u001b[0m\u001b[0;34m\u001b[0m\u001b[0m\n\u001b[1;32m   1032\u001b[0m         \u001b[0mcheck_argument_types\u001b[0m\u001b[0;34m(\u001b[0m\u001b[0mmemo\u001b[0m\u001b[0;34m)\u001b[0m\u001b[0;34m\u001b[0m\u001b[0;34m\u001b[0m\u001b[0m\n\u001b[0;32m-> 1033\u001b[0;31m         \u001b[0mretval\u001b[0m \u001b[0;34m=\u001b[0m \u001b[0mfunc\u001b[0m\u001b[0;34m(\u001b[0m\u001b[0;34m*\u001b[0m\u001b[0margs\u001b[0m\u001b[0;34m,\u001b[0m \u001b[0;34m**\u001b[0m\u001b[0mkwargs\u001b[0m\u001b[0;34m)\u001b[0m\u001b[0;34m\u001b[0m\u001b[0;34m\u001b[0m\u001b[0m\n\u001b[0m\u001b[1;32m   1034\u001b[0m         \u001b[0;32mtry\u001b[0m\u001b[0;34m:\u001b[0m\u001b[0;34m\u001b[0m\u001b[0;34m\u001b[0m\u001b[0m\n\u001b[1;32m   1035\u001b[0m             \u001b[0mcheck_return_type\u001b[0m\u001b[0;34m(\u001b[0m\u001b[0mretval\u001b[0m\u001b[0;34m,\u001b[0m \u001b[0mmemo\u001b[0m\u001b[0;34m)\u001b[0m\u001b[0;34m\u001b[0m\u001b[0;34m\u001b[0m\u001b[0m\n\u001b[1;32m   1036\u001b[0m         \u001b[0;32mexcept\u001b[0m \u001b[0mTypeError\u001b[0m \u001b[0;32mas\u001b[0m \u001b[0mexc\u001b[0m\u001b[0;34m:\u001b[0m\u001b[0;34m\u001b[0m\u001b[0;34m\u001b[0m\u001b[0m\n",
            "\u001b[0;32m~/Projetos/python-inovacao-civica/.venv/lib/python3.10/site-packages/pandas_profiling/profile_report.py\u001b[0m in \u001b[0;36m?\u001b[0;34m(self)\u001b[0m\n\u001b[1;32m    228\u001b[0m     \u001b[0;34m@\u001b[0m\u001b[0mproperty\u001b[0m\u001b[0;34m\u001b[0m\u001b[0;34m\u001b[0m\u001b[0m\n\u001b[1;32m    229\u001b[0m     \u001b[0;32mdef\u001b[0m \u001b[0mhtml\u001b[0m\u001b[0;34m(\u001b[0m\u001b[0mself\u001b[0m\u001b[0;34m)\u001b[0m \u001b[0;34m->\u001b[0m \u001b[0mstr\u001b[0m\u001b[0;34m:\u001b[0m\u001b[0;34m\u001b[0m\u001b[0;34m\u001b[0m\u001b[0m\n\u001b[1;32m    230\u001b[0m         \u001b[0;32mif\u001b[0m \u001b[0mself\u001b[0m\u001b[0;34m.\u001b[0m\u001b[0m_html\u001b[0m \u001b[0;32mis\u001b[0m \u001b[0;32mNone\u001b[0m\u001b[0;34m:\u001b[0m\u001b[0;34m\u001b[0m\u001b[0;34m\u001b[0m\u001b[0m\n\u001b[0;32m--> 231\u001b[0;31m             \u001b[0mself\u001b[0m\u001b[0;34m.\u001b[0m\u001b[0m_html\u001b[0m \u001b[0;34m=\u001b[0m \u001b[0mself\u001b[0m\u001b[0;34m.\u001b[0m\u001b[0m_render_html\u001b[0m\u001b[0;34m(\u001b[0m\u001b[0;34m)\u001b[0m\u001b[0;34m\u001b[0m\u001b[0;34m\u001b[0m\u001b[0m\n\u001b[0m\u001b[1;32m    232\u001b[0m         \u001b[0;32mreturn\u001b[0m \u001b[0mself\u001b[0m\u001b[0;34m.\u001b[0m\u001b[0m_html\u001b[0m\u001b[0;34m\u001b[0m\u001b[0;34m\u001b[0m\u001b[0m\n",
            "\u001b[0;32m~/Projetos/python-inovacao-civica/.venv/lib/python3.10/site-packages/typeguard/__init__.py\u001b[0m in \u001b[0;36m?\u001b[0;34m(*args, **kwargs)\u001b[0m\n\u001b[1;32m   1030\u001b[0m     \u001b[0;32mdef\u001b[0m \u001b[0mwrapper\u001b[0m\u001b[0;34m(\u001b[0m\u001b[0;34m*\u001b[0m\u001b[0margs\u001b[0m\u001b[0;34m,\u001b[0m \u001b[0;34m**\u001b[0m\u001b[0mkwargs\u001b[0m\u001b[0;34m)\u001b[0m\u001b[0;34m:\u001b[0m\u001b[0;34m\u001b[0m\u001b[0;34m\u001b[0m\u001b[0m\n\u001b[1;32m   1031\u001b[0m         \u001b[0mmemo\u001b[0m \u001b[0;34m=\u001b[0m \u001b[0m_CallMemo\u001b[0m\u001b[0;34m(\u001b[0m\u001b[0mpython_func\u001b[0m\u001b[0;34m,\u001b[0m \u001b[0m_localns\u001b[0m\u001b[0;34m,\u001b[0m \u001b[0margs\u001b[0m\u001b[0;34m=\u001b[0m\u001b[0margs\u001b[0m\u001b[0;34m,\u001b[0m \u001b[0mkwargs\u001b[0m\u001b[0;34m=\u001b[0m\u001b[0mkwargs\u001b[0m\u001b[0;34m)\u001b[0m\u001b[0;34m\u001b[0m\u001b[0;34m\u001b[0m\u001b[0m\n\u001b[1;32m   1032\u001b[0m         \u001b[0mcheck_argument_types\u001b[0m\u001b[0;34m(\u001b[0m\u001b[0mmemo\u001b[0m\u001b[0;34m)\u001b[0m\u001b[0;34m\u001b[0m\u001b[0;34m\u001b[0m\u001b[0m\n\u001b[0;32m-> 1033\u001b[0;31m         \u001b[0mretval\u001b[0m \u001b[0;34m=\u001b[0m \u001b[0mfunc\u001b[0m\u001b[0;34m(\u001b[0m\u001b[0;34m*\u001b[0m\u001b[0margs\u001b[0m\u001b[0;34m,\u001b[0m \u001b[0;34m**\u001b[0m\u001b[0mkwargs\u001b[0m\u001b[0;34m)\u001b[0m\u001b[0;34m\u001b[0m\u001b[0;34m\u001b[0m\u001b[0m\n\u001b[0m\u001b[1;32m   1034\u001b[0m         \u001b[0;32mtry\u001b[0m\u001b[0;34m:\u001b[0m\u001b[0;34m\u001b[0m\u001b[0;34m\u001b[0m\u001b[0m\n\u001b[1;32m   1035\u001b[0m             \u001b[0mcheck_return_type\u001b[0m\u001b[0;34m(\u001b[0m\u001b[0mretval\u001b[0m\u001b[0;34m,\u001b[0m \u001b[0mmemo\u001b[0m\u001b[0;34m)\u001b[0m\u001b[0;34m\u001b[0m\u001b[0;34m\u001b[0m\u001b[0m\n\u001b[1;32m   1036\u001b[0m         \u001b[0;32mexcept\u001b[0m \u001b[0mTypeError\u001b[0m \u001b[0;32mas\u001b[0m \u001b[0mexc\u001b[0m\u001b[0;34m:\u001b[0m\u001b[0;34m\u001b[0m\u001b[0;34m\u001b[0m\u001b[0m\n",
            "\u001b[0;32m~/Projetos/python-inovacao-civica/.venv/lib/python3.10/site-packages/pandas_profiling/profile_report.py\u001b[0m in \u001b[0;36m?\u001b[0;34m(self)\u001b[0m\n\u001b[1;32m    336\u001b[0m     \u001b[0;32mdef\u001b[0m \u001b[0m_render_html\u001b[0m\u001b[0;34m(\u001b[0m\u001b[0mself\u001b[0m\u001b[0;34m)\u001b[0m \u001b[0;34m->\u001b[0m \u001b[0mstr\u001b[0m\u001b[0;34m:\u001b[0m\u001b[0;34m\u001b[0m\u001b[0;34m\u001b[0m\u001b[0m\n\u001b[1;32m    337\u001b[0m         \u001b[0;32mfrom\u001b[0m \u001b[0mpandas_profiling\u001b[0m\u001b[0;34m.\u001b[0m\u001b[0mreport\u001b[0m\u001b[0;34m.\u001b[0m\u001b[0mpresentation\u001b[0m\u001b[0;34m.\u001b[0m\u001b[0mflavours\u001b[0m \u001b[0;32mimport\u001b[0m \u001b[0mHTMLReport\u001b[0m\u001b[0;34m\u001b[0m\u001b[0;34m\u001b[0m\u001b[0m\n\u001b[1;32m    338\u001b[0m \u001b[0;34m\u001b[0m\u001b[0m\n\u001b[0;32m--> 339\u001b[0;31m         \u001b[0mreport\u001b[0m \u001b[0;34m=\u001b[0m \u001b[0mself\u001b[0m\u001b[0;34m.\u001b[0m\u001b[0mreport\u001b[0m\u001b[0;34m\u001b[0m\u001b[0;34m\u001b[0m\u001b[0m\n\u001b[0m\u001b[1;32m    340\u001b[0m \u001b[0;34m\u001b[0m\u001b[0m\n\u001b[1;32m    341\u001b[0m         with tqdm(\n\u001b[1;32m    342\u001b[0m             \u001b[0mtotal\u001b[0m\u001b[0;34m=\u001b[0m\u001b[0;36m1\u001b[0m\u001b[0;34m,\u001b[0m \u001b[0mdesc\u001b[0m\u001b[0;34m=\u001b[0m\u001b[0;34m\"Render HTML\"\u001b[0m\u001b[0;34m,\u001b[0m \u001b[0mdisable\u001b[0m\u001b[0;34m=\u001b[0m\u001b[0;32mnot\u001b[0m \u001b[0mself\u001b[0m\u001b[0;34m.\u001b[0m\u001b[0mconfig\u001b[0m\u001b[0;34m.\u001b[0m\u001b[0mprogress_bar\u001b[0m\u001b[0;34m\u001b[0m\u001b[0;34m\u001b[0m\u001b[0m\n",
            "\u001b[0;32m~/Projetos/python-inovacao-civica/.venv/lib/python3.10/site-packages/typeguard/__init__.py\u001b[0m in \u001b[0;36m?\u001b[0;34m(*args, **kwargs)\u001b[0m\n\u001b[1;32m   1030\u001b[0m     \u001b[0;32mdef\u001b[0m \u001b[0mwrapper\u001b[0m\u001b[0;34m(\u001b[0m\u001b[0;34m*\u001b[0m\u001b[0margs\u001b[0m\u001b[0;34m,\u001b[0m \u001b[0;34m**\u001b[0m\u001b[0mkwargs\u001b[0m\u001b[0;34m)\u001b[0m\u001b[0;34m:\u001b[0m\u001b[0;34m\u001b[0m\u001b[0;34m\u001b[0m\u001b[0m\n\u001b[1;32m   1031\u001b[0m         \u001b[0mmemo\u001b[0m \u001b[0;34m=\u001b[0m \u001b[0m_CallMemo\u001b[0m\u001b[0;34m(\u001b[0m\u001b[0mpython_func\u001b[0m\u001b[0;34m,\u001b[0m \u001b[0m_localns\u001b[0m\u001b[0;34m,\u001b[0m \u001b[0margs\u001b[0m\u001b[0;34m=\u001b[0m\u001b[0margs\u001b[0m\u001b[0;34m,\u001b[0m \u001b[0mkwargs\u001b[0m\u001b[0;34m=\u001b[0m\u001b[0mkwargs\u001b[0m\u001b[0;34m)\u001b[0m\u001b[0;34m\u001b[0m\u001b[0;34m\u001b[0m\u001b[0m\n\u001b[1;32m   1032\u001b[0m         \u001b[0mcheck_argument_types\u001b[0m\u001b[0;34m(\u001b[0m\u001b[0mmemo\u001b[0m\u001b[0;34m)\u001b[0m\u001b[0;34m\u001b[0m\u001b[0;34m\u001b[0m\u001b[0m\n\u001b[0;32m-> 1033\u001b[0;31m         \u001b[0mretval\u001b[0m \u001b[0;34m=\u001b[0m \u001b[0mfunc\u001b[0m\u001b[0;34m(\u001b[0m\u001b[0;34m*\u001b[0m\u001b[0margs\u001b[0m\u001b[0;34m,\u001b[0m \u001b[0;34m**\u001b[0m\u001b[0mkwargs\u001b[0m\u001b[0;34m)\u001b[0m\u001b[0;34m\u001b[0m\u001b[0;34m\u001b[0m\u001b[0m\n\u001b[0m\u001b[1;32m   1034\u001b[0m         \u001b[0;32mtry\u001b[0m\u001b[0;34m:\u001b[0m\u001b[0;34m\u001b[0m\u001b[0;34m\u001b[0m\u001b[0m\n\u001b[1;32m   1035\u001b[0m             \u001b[0mcheck_return_type\u001b[0m\u001b[0;34m(\u001b[0m\u001b[0mretval\u001b[0m\u001b[0;34m,\u001b[0m \u001b[0mmemo\u001b[0m\u001b[0;34m)\u001b[0m\u001b[0;34m\u001b[0m\u001b[0;34m\u001b[0m\u001b[0m\n\u001b[1;32m   1036\u001b[0m         \u001b[0;32mexcept\u001b[0m \u001b[0mTypeError\u001b[0m \u001b[0;32mas\u001b[0m \u001b[0mexc\u001b[0m\u001b[0;34m:\u001b[0m\u001b[0;34m\u001b[0m\u001b[0;34m\u001b[0m\u001b[0m\n",
            "\u001b[0;32m~/Projetos/python-inovacao-civica/.venv/lib/python3.10/site-packages/pandas_profiling/profile_report.py\u001b[0m in \u001b[0;36m?\u001b[0;34m(self)\u001b[0m\n\u001b[1;32m    222\u001b[0m     \u001b[0;34m@\u001b[0m\u001b[0mproperty\u001b[0m\u001b[0;34m\u001b[0m\u001b[0;34m\u001b[0m\u001b[0m\n\u001b[1;32m    223\u001b[0m     \u001b[0;32mdef\u001b[0m \u001b[0mreport\u001b[0m\u001b[0;34m(\u001b[0m\u001b[0mself\u001b[0m\u001b[0;34m)\u001b[0m \u001b[0;34m->\u001b[0m \u001b[0mRoot\u001b[0m\u001b[0;34m:\u001b[0m\u001b[0;34m\u001b[0m\u001b[0;34m\u001b[0m\u001b[0m\n\u001b[1;32m    224\u001b[0m         \u001b[0;32mif\u001b[0m \u001b[0mself\u001b[0m\u001b[0;34m.\u001b[0m\u001b[0m_report\u001b[0m \u001b[0;32mis\u001b[0m \u001b[0;32mNone\u001b[0m\u001b[0;34m:\u001b[0m\u001b[0;34m\u001b[0m\u001b[0;34m\u001b[0m\u001b[0m\n\u001b[0;32m--> 225\u001b[0;31m             \u001b[0mself\u001b[0m\u001b[0;34m.\u001b[0m\u001b[0m_report\u001b[0m \u001b[0;34m=\u001b[0m \u001b[0mget_report_structure\u001b[0m\u001b[0;34m(\u001b[0m\u001b[0mself\u001b[0m\u001b[0;34m.\u001b[0m\u001b[0mconfig\u001b[0m\u001b[0;34m,\u001b[0m \u001b[0mself\u001b[0m\u001b[0;34m.\u001b[0m\u001b[0mdescription_set\u001b[0m\u001b[0;34m)\u001b[0m\u001b[0;34m\u001b[0m\u001b[0;34m\u001b[0m\u001b[0m\n\u001b[0m\u001b[1;32m    226\u001b[0m         \u001b[0;32mreturn\u001b[0m \u001b[0mself\u001b[0m\u001b[0;34m.\u001b[0m\u001b[0m_report\u001b[0m\u001b[0;34m\u001b[0m\u001b[0;34m\u001b[0m\u001b[0m\n",
            "\u001b[0;32m~/Projetos/python-inovacao-civica/.venv/lib/python3.10/site-packages/typeguard/__init__.py\u001b[0m in \u001b[0;36m?\u001b[0;34m(*args, **kwargs)\u001b[0m\n\u001b[1;32m   1030\u001b[0m     \u001b[0;32mdef\u001b[0m \u001b[0mwrapper\u001b[0m\u001b[0;34m(\u001b[0m\u001b[0;34m*\u001b[0m\u001b[0margs\u001b[0m\u001b[0;34m,\u001b[0m \u001b[0;34m**\u001b[0m\u001b[0mkwargs\u001b[0m\u001b[0;34m)\u001b[0m\u001b[0;34m:\u001b[0m\u001b[0;34m\u001b[0m\u001b[0;34m\u001b[0m\u001b[0m\n\u001b[1;32m   1031\u001b[0m         \u001b[0mmemo\u001b[0m \u001b[0;34m=\u001b[0m \u001b[0m_CallMemo\u001b[0m\u001b[0;34m(\u001b[0m\u001b[0mpython_func\u001b[0m\u001b[0;34m,\u001b[0m \u001b[0m_localns\u001b[0m\u001b[0;34m,\u001b[0m \u001b[0margs\u001b[0m\u001b[0;34m=\u001b[0m\u001b[0margs\u001b[0m\u001b[0;34m,\u001b[0m \u001b[0mkwargs\u001b[0m\u001b[0;34m=\u001b[0m\u001b[0mkwargs\u001b[0m\u001b[0;34m)\u001b[0m\u001b[0;34m\u001b[0m\u001b[0;34m\u001b[0m\u001b[0m\n\u001b[1;32m   1032\u001b[0m         \u001b[0mcheck_argument_types\u001b[0m\u001b[0;34m(\u001b[0m\u001b[0mmemo\u001b[0m\u001b[0;34m)\u001b[0m\u001b[0;34m\u001b[0m\u001b[0;34m\u001b[0m\u001b[0m\n\u001b[0;32m-> 1033\u001b[0;31m         \u001b[0mretval\u001b[0m \u001b[0;34m=\u001b[0m \u001b[0mfunc\u001b[0m\u001b[0;34m(\u001b[0m\u001b[0;34m*\u001b[0m\u001b[0margs\u001b[0m\u001b[0;34m,\u001b[0m \u001b[0;34m**\u001b[0m\u001b[0mkwargs\u001b[0m\u001b[0;34m)\u001b[0m\u001b[0;34m\u001b[0m\u001b[0;34m\u001b[0m\u001b[0m\n\u001b[0m\u001b[1;32m   1034\u001b[0m         \u001b[0;32mtry\u001b[0m\u001b[0;34m:\u001b[0m\u001b[0;34m\u001b[0m\u001b[0;34m\u001b[0m\u001b[0m\n\u001b[1;32m   1035\u001b[0m             \u001b[0mcheck_return_type\u001b[0m\u001b[0;34m(\u001b[0m\u001b[0mretval\u001b[0m\u001b[0;34m,\u001b[0m \u001b[0mmemo\u001b[0m\u001b[0;34m)\u001b[0m\u001b[0;34m\u001b[0m\u001b[0;34m\u001b[0m\u001b[0m\n\u001b[1;32m   1036\u001b[0m         \u001b[0;32mexcept\u001b[0m \u001b[0mTypeError\u001b[0m \u001b[0;32mas\u001b[0m \u001b[0mexc\u001b[0m\u001b[0;34m:\u001b[0m\u001b[0;34m\u001b[0m\u001b[0;34m\u001b[0m\u001b[0m\n",
            "\u001b[0;32m~/Projetos/python-inovacao-civica/.venv/lib/python3.10/site-packages/pandas_profiling/profile_report.py\u001b[0m in \u001b[0;36m?\u001b[0;34m(self)\u001b[0m\n\u001b[1;32m    204\u001b[0m     \u001b[0;34m@\u001b[0m\u001b[0mproperty\u001b[0m\u001b[0;34m\u001b[0m\u001b[0;34m\u001b[0m\u001b[0m\n\u001b[1;32m    205\u001b[0m     \u001b[0;32mdef\u001b[0m \u001b[0mdescription_set\u001b[0m\u001b[0;34m(\u001b[0m\u001b[0mself\u001b[0m\u001b[0;34m)\u001b[0m \u001b[0;34m->\u001b[0m \u001b[0mDict\u001b[0m\u001b[0;34m[\u001b[0m\u001b[0mstr\u001b[0m\u001b[0;34m,\u001b[0m \u001b[0mAny\u001b[0m\u001b[0;34m]\u001b[0m\u001b[0;34m:\u001b[0m\u001b[0;34m\u001b[0m\u001b[0;34m\u001b[0m\u001b[0m\n\u001b[1;32m    206\u001b[0m         \u001b[0;32mif\u001b[0m \u001b[0mself\u001b[0m\u001b[0;34m.\u001b[0m\u001b[0m_description_set\u001b[0m \u001b[0;32mis\u001b[0m \u001b[0;32mNone\u001b[0m\u001b[0;34m:\u001b[0m\u001b[0;34m\u001b[0m\u001b[0;34m\u001b[0m\u001b[0m\n\u001b[0;32m--> 207\u001b[0;31m             self._description_set = describe_df(\n\u001b[0m\u001b[1;32m    208\u001b[0m                 \u001b[0mself\u001b[0m\u001b[0;34m.\u001b[0m\u001b[0mconfig\u001b[0m\u001b[0;34m,\u001b[0m\u001b[0;34m\u001b[0m\u001b[0;34m\u001b[0m\u001b[0m\n\u001b[1;32m    209\u001b[0m                 \u001b[0mself\u001b[0m\u001b[0;34m.\u001b[0m\u001b[0mdf\u001b[0m\u001b[0;34m,\u001b[0m\u001b[0;34m\u001b[0m\u001b[0;34m\u001b[0m\u001b[0m\n\u001b[1;32m    210\u001b[0m                 \u001b[0mself\u001b[0m\u001b[0;34m.\u001b[0m\u001b[0msummarizer\u001b[0m\u001b[0;34m,\u001b[0m\u001b[0;34m\u001b[0m\u001b[0;34m\u001b[0m\u001b[0m\n",
            "\u001b[0;32m~/Projetos/python-inovacao-civica/.venv/lib/python3.10/site-packages/pandas_profiling/model/describe.py\u001b[0m in \u001b[0;36m?\u001b[0;34m(config, df, summarizer, typeset, sample)\u001b[0m\n\u001b[1;32m    125\u001b[0m \u001b[0;34m\u001b[0m\u001b[0m\n\u001b[1;32m    126\u001b[0m         \u001b[0;31m# missing diagrams\u001b[0m\u001b[0;34m\u001b[0m\u001b[0;34m\u001b[0m\u001b[0m\n\u001b[1;32m    127\u001b[0m         \u001b[0mmissing_map\u001b[0m \u001b[0;34m=\u001b[0m \u001b[0mget_missing_active\u001b[0m\u001b[0;34m(\u001b[0m\u001b[0mconfig\u001b[0m\u001b[0;34m,\u001b[0m \u001b[0mtable_stats\u001b[0m\u001b[0;34m)\u001b[0m\u001b[0;34m\u001b[0m\u001b[0;34m\u001b[0m\u001b[0m\n\u001b[1;32m    128\u001b[0m         \u001b[0mpbar\u001b[0m\u001b[0;34m.\u001b[0m\u001b[0mtotal\u001b[0m \u001b[0;34m+=\u001b[0m \u001b[0mlen\u001b[0m\u001b[0;34m(\u001b[0m\u001b[0mmissing_map\u001b[0m\u001b[0;34m)\u001b[0m\u001b[0;34m\u001b[0m\u001b[0;34m\u001b[0m\u001b[0m\n\u001b[0;32m--> 129\u001b[0;31m         missing = {\n\u001b[0m\u001b[1;32m    130\u001b[0m             name: progress(get_missing_diagram, pbar, f\"Missing diagram {name}\")(\n\u001b[1;32m    131\u001b[0m                 \u001b[0mconfig\u001b[0m\u001b[0;34m,\u001b[0m \u001b[0mdf\u001b[0m\u001b[0;34m,\u001b[0m \u001b[0msettings\u001b[0m\u001b[0;34m\u001b[0m\u001b[0;34m\u001b[0m\u001b[0m\n\u001b[1;32m    132\u001b[0m             )\n",
            "\u001b[0;32m~/Projetos/python-inovacao-civica/.venv/lib/python3.10/site-packages/pandas_profiling/model/describe.py\u001b[0m in \u001b[0;36m?\u001b[0;34m(.0)\u001b[0m\n\u001b[1;32m    129\u001b[0m def describe(\n\u001b[0;32m--> 130\u001b[0;31m     \u001b[0mconfig\u001b[0m\u001b[0;34m:\u001b[0m \u001b[0mSettings\u001b[0m\u001b[0;34m,\u001b[0m\u001b[0;34m\u001b[0m\u001b[0;34m\u001b[0m\u001b[0m\n\u001b[0m\u001b[1;32m    131\u001b[0m     \u001b[0mdf\u001b[0m\u001b[0;34m:\u001b[0m \u001b[0mpd\u001b[0m\u001b[0;34m.\u001b[0m\u001b[0mDataFrame\u001b[0m\u001b[0;34m,\u001b[0m\u001b[0;34m\u001b[0m\u001b[0;34m\u001b[0m\u001b[0m\n\u001b[1;32m    132\u001b[0m     \u001b[0msummarizer\u001b[0m\u001b[0;34m:\u001b[0m \u001b[0mBaseSummarizer\u001b[0m\u001b[0;34m,\u001b[0m\u001b[0;34m\u001b[0m\u001b[0;34m\u001b[0m\u001b[0m\n\u001b[1;32m    133\u001b[0m     \u001b[0mtypeset\u001b[0m\u001b[0;34m:\u001b[0m \u001b[0mVisionsTypeset\u001b[0m\u001b[0;34m,\u001b[0m\u001b[0;34m\u001b[0m\u001b[0;34m\u001b[0m\u001b[0m\n",
            "\u001b[0;32m~/Projetos/python-inovacao-civica/.venv/lib/python3.10/site-packages/pandas_profiling/utils/progress_bar.py\u001b[0m in \u001b[0;36m?\u001b[0;34m(*args, **kwargs)\u001b[0m\n\u001b[1;32m      8\u001b[0m     \u001b[0;34m@\u001b[0m\u001b[0mwraps\u001b[0m\u001b[0;34m(\u001b[0m\u001b[0mfn\u001b[0m\u001b[0;34m)\u001b[0m\u001b[0;34m\u001b[0m\u001b[0;34m\u001b[0m\u001b[0m\n\u001b[1;32m      9\u001b[0m     \u001b[0;32mdef\u001b[0m \u001b[0minner\u001b[0m\u001b[0;34m(\u001b[0m\u001b[0;34m*\u001b[0m\u001b[0margs\u001b[0m\u001b[0;34m,\u001b[0m \u001b[0;34m**\u001b[0m\u001b[0mkwargs\u001b[0m\u001b[0;34m)\u001b[0m \u001b[0;34m->\u001b[0m \u001b[0mAny\u001b[0m\u001b[0;34m:\u001b[0m\u001b[0;34m\u001b[0m\u001b[0;34m\u001b[0m\u001b[0m\n\u001b[1;32m     10\u001b[0m         \u001b[0mbar\u001b[0m\u001b[0;34m.\u001b[0m\u001b[0mset_postfix_str\u001b[0m\u001b[0;34m(\u001b[0m\u001b[0mmessage\u001b[0m\u001b[0;34m)\u001b[0m\u001b[0;34m\u001b[0m\u001b[0;34m\u001b[0m\u001b[0m\n\u001b[0;32m---> 11\u001b[0;31m         \u001b[0mret\u001b[0m \u001b[0;34m=\u001b[0m \u001b[0mfn\u001b[0m\u001b[0;34m(\u001b[0m\u001b[0;34m*\u001b[0m\u001b[0margs\u001b[0m\u001b[0;34m,\u001b[0m \u001b[0;34m**\u001b[0m\u001b[0mkwargs\u001b[0m\u001b[0;34m)\u001b[0m\u001b[0;34m\u001b[0m\u001b[0;34m\u001b[0m\u001b[0m\n\u001b[0m\u001b[1;32m     12\u001b[0m         \u001b[0mbar\u001b[0m\u001b[0;34m.\u001b[0m\u001b[0mupdate\u001b[0m\u001b[0;34m(\u001b[0m\u001b[0;34m)\u001b[0m\u001b[0;34m\u001b[0m\u001b[0;34m\u001b[0m\u001b[0m\n\u001b[1;32m     13\u001b[0m         \u001b[0;32mreturn\u001b[0m \u001b[0mret\u001b[0m\u001b[0;34m\u001b[0m\u001b[0;34m\u001b[0m\u001b[0m\n",
            "\u001b[0;32m~/Projetos/python-inovacao-civica/.venv/lib/python3.10/site-packages/pandas_profiling/model/missing.py\u001b[0m in \u001b[0;36m?\u001b[0;34m(config, df, settings)\u001b[0m\n\u001b[1;32m    108\u001b[0m \u001b[0;34m\u001b[0m\u001b[0m\n\u001b[1;32m    109\u001b[0m     \u001b[0;32mif\u001b[0m \u001b[0mlen\u001b[0m\u001b[0;34m(\u001b[0m\u001b[0mdf\u001b[0m\u001b[0;34m)\u001b[0m \u001b[0;34m==\u001b[0m \u001b[0;36m0\u001b[0m\u001b[0;34m:\u001b[0m\u001b[0;34m\u001b[0m\u001b[0;34m\u001b[0m\u001b[0m\n\u001b[1;32m    110\u001b[0m         \u001b[0;32mreturn\u001b[0m \u001b[0;32mNone\u001b[0m\u001b[0;34m\u001b[0m\u001b[0;34m\u001b[0m\u001b[0m\n\u001b[1;32m    111\u001b[0m \u001b[0;34m\u001b[0m\u001b[0m\n\u001b[0;32m--> 112\u001b[0;31m     \u001b[0mresult\u001b[0m \u001b[0;34m=\u001b[0m \u001b[0mhandle_missing\u001b[0m\u001b[0;34m(\u001b[0m\u001b[0msettings\u001b[0m\u001b[0;34m[\u001b[0m\u001b[0;34m\"name\"\u001b[0m\u001b[0;34m]\u001b[0m\u001b[0;34m,\u001b[0m \u001b[0msettings\u001b[0m\u001b[0;34m[\u001b[0m\u001b[0;34m\"function\"\u001b[0m\u001b[0;34m]\u001b[0m\u001b[0;34m)\u001b[0m\u001b[0;34m(\u001b[0m\u001b[0mconfig\u001b[0m\u001b[0;34m,\u001b[0m \u001b[0mdf\u001b[0m\u001b[0;34m)\u001b[0m\u001b[0;34m\u001b[0m\u001b[0;34m\u001b[0m\u001b[0m\n\u001b[0m\u001b[1;32m    113\u001b[0m     \u001b[0;32mif\u001b[0m \u001b[0mresult\u001b[0m \u001b[0;32mis\u001b[0m \u001b[0;32mNone\u001b[0m\u001b[0;34m:\u001b[0m\u001b[0;34m\u001b[0m\u001b[0;34m\u001b[0m\u001b[0m\n\u001b[1;32m    114\u001b[0m         \u001b[0;32mreturn\u001b[0m \u001b[0;32mNone\u001b[0m\u001b[0;34m\u001b[0m\u001b[0;34m\u001b[0m\u001b[0m\n\u001b[1;32m    115\u001b[0m \u001b[0;34m\u001b[0m\u001b[0m\n",
            "\u001b[0;32m~/Projetos/python-inovacao-civica/.venv/lib/python3.10/site-packages/pandas_profiling/model/missing.py\u001b[0m in \u001b[0;36m?\u001b[0;34m(*args, **kwargs)\u001b[0m\n\u001b[1;32m     85\u001b[0m             )\n\u001b[1;32m     86\u001b[0m \u001b[0;34m\u001b[0m\u001b[0m\n\u001b[1;32m     87\u001b[0m         \u001b[0;32mtry\u001b[0m\u001b[0;34m:\u001b[0m\u001b[0;34m\u001b[0m\u001b[0;34m\u001b[0m\u001b[0m\n\u001b[1;32m     88\u001b[0m             \u001b[0;32mreturn\u001b[0m \u001b[0mfn\u001b[0m\u001b[0;34m(\u001b[0m\u001b[0;34m*\u001b[0m\u001b[0margs\u001b[0m\u001b[0;34m,\u001b[0m \u001b[0;34m*\u001b[0m\u001b[0mkwargs\u001b[0m\u001b[0;34m)\u001b[0m\u001b[0;34m\u001b[0m\u001b[0;34m\u001b[0m\u001b[0m\n\u001b[0;32m---> 89\u001b[0;31m         \u001b[0;32mexcept\u001b[0m \u001b[0mValueError\u001b[0m \u001b[0;32mas\u001b[0m \u001b[0me\u001b[0m\u001b[0;34m:\u001b[0m\u001b[0;34m\u001b[0m\u001b[0;34m\u001b[0m\u001b[0m\n\u001b[0m\u001b[1;32m     90\u001b[0m             \u001b[0mwarn_missing\u001b[0m\u001b[0;34m(\u001b[0m\u001b[0mname\u001b[0m\u001b[0;34m,\u001b[0m \u001b[0mstr\u001b[0m\u001b[0;34m(\u001b[0m\u001b[0me\u001b[0m\u001b[0;34m)\u001b[0m\u001b[0;34m)\u001b[0m\u001b[0;34m\u001b[0m\u001b[0;34m\u001b[0m\u001b[0m\n",
            "\u001b[0;32m~/Projetos/python-inovacao-civica/.venv/lib/python3.10/site-packages/multimethod/__init__.py\u001b[0m in \u001b[0;36m?\u001b[0;34m(self, *args, **kwargs)\u001b[0m\n\u001b[1;32m    312\u001b[0m             \u001b[0mself\u001b[0m\u001b[0;34m.\u001b[0m\u001b[0mevaluate\u001b[0m\u001b[0;34m(\u001b[0m\u001b[0;34m)\u001b[0m\u001b[0;34m\u001b[0m\u001b[0;34m\u001b[0m\u001b[0m\n\u001b[1;32m    313\u001b[0m         \u001b[0mfunc\u001b[0m \u001b[0;34m=\u001b[0m \u001b[0mself\u001b[0m\u001b[0;34m[\u001b[0m\u001b[0mtuple\u001b[0m\u001b[0;34m(\u001b[0m\u001b[0mfunc\u001b[0m\u001b[0;34m(\u001b[0m\u001b[0marg\u001b[0m\u001b[0;34m)\u001b[0m \u001b[0;32mfor\u001b[0m \u001b[0mfunc\u001b[0m\u001b[0;34m,\u001b[0m \u001b[0marg\u001b[0m \u001b[0;32min\u001b[0m \u001b[0mzip\u001b[0m\u001b[0;34m(\u001b[0m\u001b[0mself\u001b[0m\u001b[0;34m.\u001b[0m\u001b[0mtype_checkers\u001b[0m\u001b[0;34m,\u001b[0m \u001b[0margs\u001b[0m\u001b[0;34m)\u001b[0m\u001b[0;34m)\u001b[0m\u001b[0;34m]\u001b[0m\u001b[0;34m\u001b[0m\u001b[0;34m\u001b[0m\u001b[0m\n\u001b[1;32m    314\u001b[0m         \u001b[0;32mtry\u001b[0m\u001b[0;34m:\u001b[0m\u001b[0;34m\u001b[0m\u001b[0;34m\u001b[0m\u001b[0m\n\u001b[1;32m    315\u001b[0m             \u001b[0;32mreturn\u001b[0m \u001b[0mfunc\u001b[0m\u001b[0;34m(\u001b[0m\u001b[0;34m*\u001b[0m\u001b[0margs\u001b[0m\u001b[0;34m,\u001b[0m \u001b[0;34m**\u001b[0m\u001b[0mkwargs\u001b[0m\u001b[0;34m)\u001b[0m\u001b[0;34m\u001b[0m\u001b[0;34m\u001b[0m\u001b[0m\n\u001b[0;32m--> 316\u001b[0;31m         \u001b[0;32mexcept\u001b[0m \u001b[0mTypeError\u001b[0m \u001b[0;32mas\u001b[0m \u001b[0mex\u001b[0m\u001b[0;34m:\u001b[0m\u001b[0;34m\u001b[0m\u001b[0;34m\u001b[0m\u001b[0m\n\u001b[0m\u001b[1;32m    317\u001b[0m             \u001b[0;32mraise\u001b[0m \u001b[0mDispatchError\u001b[0m\u001b[0;34m(\u001b[0m\u001b[0;34mf\"Function {func.__code__}\"\u001b[0m\u001b[0;34m)\u001b[0m \u001b[0;32mfrom\u001b[0m \u001b[0mex\u001b[0m\u001b[0;34m\u001b[0m\u001b[0;34m\u001b[0m\u001b[0m\n",
            "\u001b[0;32m~/Projetos/python-inovacao-civica/.venv/lib/python3.10/site-packages/pandas_profiling/model/pandas/missing_pandas.py\u001b[0m in \u001b[0;36m?\u001b[0;34m(config, df)\u001b[0m\n\u001b[1;32m     12\u001b[0m \u001b[0;34m@\u001b[0m\u001b[0mmissing_bar\u001b[0m\u001b[0;34m.\u001b[0m\u001b[0mregister\u001b[0m\u001b[0;34m\u001b[0m\u001b[0;34m\u001b[0m\u001b[0m\n\u001b[1;32m     13\u001b[0m \u001b[0;32mdef\u001b[0m \u001b[0mpandas_missing_bar\u001b[0m\u001b[0;34m(\u001b[0m\u001b[0mconfig\u001b[0m\u001b[0;34m:\u001b[0m \u001b[0mSettings\u001b[0m\u001b[0;34m,\u001b[0m \u001b[0mdf\u001b[0m\u001b[0;34m:\u001b[0m \u001b[0mpd\u001b[0m\u001b[0;34m.\u001b[0m\u001b[0mDataFrame\u001b[0m\u001b[0;34m)\u001b[0m \u001b[0;34m->\u001b[0m \u001b[0mstr\u001b[0m\u001b[0;34m:\u001b[0m\u001b[0;34m\u001b[0m\u001b[0;34m\u001b[0m\u001b[0m\n\u001b[0;32m---> 14\u001b[0;31m     \u001b[0;32mreturn\u001b[0m \u001b[0mplot_missing_bar\u001b[0m\u001b[0;34m(\u001b[0m\u001b[0mconfig\u001b[0m\u001b[0;34m,\u001b[0m \u001b[0mdf\u001b[0m\u001b[0;34m)\u001b[0m\u001b[0;34m\u001b[0m\u001b[0;34m\u001b[0m\u001b[0m\n\u001b[0m",
            "\u001b[0;32m/usr/lib/python3.10/contextlib.py\u001b[0m in \u001b[0;36m?\u001b[0;34m(*args, **kwds)\u001b[0m\n\u001b[1;32m     76\u001b[0m         \u001b[0;34m@\u001b[0m\u001b[0mwraps\u001b[0m\u001b[0;34m(\u001b[0m\u001b[0mfunc\u001b[0m\u001b[0;34m)\u001b[0m\u001b[0;34m\u001b[0m\u001b[0;34m\u001b[0m\u001b[0m\n\u001b[1;32m     77\u001b[0m         \u001b[0;32mdef\u001b[0m \u001b[0minner\u001b[0m\u001b[0;34m(\u001b[0m\u001b[0;34m*\u001b[0m\u001b[0margs\u001b[0m\u001b[0;34m,\u001b[0m \u001b[0;34m**\u001b[0m\u001b[0mkwds\u001b[0m\u001b[0;34m)\u001b[0m\u001b[0;34m:\u001b[0m\u001b[0;34m\u001b[0m\u001b[0;34m\u001b[0m\u001b[0m\n\u001b[1;32m     78\u001b[0m             \u001b[0;32mwith\u001b[0m \u001b[0mself\u001b[0m\u001b[0;34m.\u001b[0m\u001b[0m_recreate_cm\u001b[0m\u001b[0;34m(\u001b[0m\u001b[0;34m)\u001b[0m\u001b[0;34m:\u001b[0m\u001b[0;34m\u001b[0m\u001b[0;34m\u001b[0m\u001b[0m\n\u001b[0;32m---> 79\u001b[0;31m                 \u001b[0;32mreturn\u001b[0m \u001b[0mfunc\u001b[0m\u001b[0;34m(\u001b[0m\u001b[0;34m*\u001b[0m\u001b[0margs\u001b[0m\u001b[0;34m,\u001b[0m \u001b[0;34m**\u001b[0m\u001b[0mkwds\u001b[0m\u001b[0;34m)\u001b[0m\u001b[0;34m\u001b[0m\u001b[0;34m\u001b[0m\u001b[0m\n\u001b[0m",
            "\u001b[0;32m~/Projetos/python-inovacao-civica/.venv/lib/python3.10/site-packages/pandas_profiling/visualisation/missing.py\u001b[0m in \u001b[0;36m?\u001b[0;34m(config, data)\u001b[0m\n\u001b[1;32m     69\u001b[0m \u001b[0;34m\u001b[0m\u001b[0m\n\u001b[1;32m     70\u001b[0m     \u001b[0mReturns\u001b[0m\u001b[0;34m:\u001b[0m\u001b[0;34m\u001b[0m\u001b[0;34m\u001b[0m\u001b[0m\n\u001b[1;32m     71\u001b[0m         \u001b[0mThe\u001b[0m \u001b[0mresulting\u001b[0m \u001b[0mmissing\u001b[0m \u001b[0mvalues\u001b[0m \u001b[0mbar\u001b[0m \u001b[0mplot\u001b[0m \u001b[0mencoded\u001b[0m \u001b[0;32mas\u001b[0m \u001b[0ma\u001b[0m \u001b[0mstring\u001b[0m\u001b[0;34m.\u001b[0m\u001b[0;34m\u001b[0m\u001b[0;34m\u001b[0m\u001b[0m\n\u001b[1;32m     72\u001b[0m     \"\"\"\n\u001b[0;32m---> 73\u001b[0;31m     missing_bar(\n\u001b[0m\u001b[1;32m     74\u001b[0m         \u001b[0mdata\u001b[0m\u001b[0;34m,\u001b[0m\u001b[0;34m\u001b[0m\u001b[0;34m\u001b[0m\u001b[0m\n\u001b[1;32m     75\u001b[0m         \u001b[0mfigsize\u001b[0m\u001b[0;34m=\u001b[0m\u001b[0;34m(\u001b[0m\u001b[0;36m10\u001b[0m\u001b[0;34m,\u001b[0m \u001b[0;36m5\u001b[0m\u001b[0;34m)\u001b[0m\u001b[0;34m,\u001b[0m\u001b[0;34m\u001b[0m\u001b[0;34m\u001b[0m\u001b[0m\n\u001b[1;32m     76\u001b[0m         \u001b[0mfontsize\u001b[0m\u001b[0;34m=\u001b[0m\u001b[0mget_font_size\u001b[0m\u001b[0;34m(\u001b[0m\u001b[0mdata\u001b[0m\u001b[0;34m)\u001b[0m\u001b[0;34m,\u001b[0m\u001b[0;34m\u001b[0m\u001b[0;34m\u001b[0m\u001b[0m\n",
            "\u001b[0;32m~/Projetos/python-inovacao-civica/.venv/lib/python3.10/site-packages/pandas_profiling/visualisation/plot.py\u001b[0m in \u001b[0;36m?\u001b[0;34m(data, figsize, fontsize, labels, color, label_rotation)\u001b[0m\n\u001b[1;32m    803\u001b[0m         ax1.set_xticklabels(\n\u001b[1;32m    804\u001b[0m             \u001b[0mvalues\u001b[0m\u001b[0;34m,\u001b[0m \u001b[0mha\u001b[0m\u001b[0;34m=\u001b[0m\u001b[0;34m\"left\"\u001b[0m\u001b[0;34m,\u001b[0m \u001b[0mfontsize\u001b[0m\u001b[0;34m=\u001b[0m\u001b[0mfontsize\u001b[0m\u001b[0;34m,\u001b[0m \u001b[0mrotation\u001b[0m\u001b[0;34m=\u001b[0m\u001b[0mlabel_rotation\u001b[0m\u001b[0;34m\u001b[0m\u001b[0;34m\u001b[0m\u001b[0m\n\u001b[1;32m    805\u001b[0m         )\n\u001b[1;32m    806\u001b[0m     \u001b[0;32melse\u001b[0m\u001b[0;34m:\u001b[0m\u001b[0;34m\u001b[0m\u001b[0;34m\u001b[0m\u001b[0m\n\u001b[0;32m--> 807\u001b[0;31m         \u001b[0max0\u001b[0m \u001b[0;34m=\u001b[0m \u001b[0mnull_counts\u001b[0m\u001b[0;34m.\u001b[0m\u001b[0mplot\u001b[0m\u001b[0;34m.\u001b[0m\u001b[0mbarh\u001b[0m\u001b[0;34m(\u001b[0m\u001b[0mfigsize\u001b[0m\u001b[0;34m=\u001b[0m\u001b[0mfigsize\u001b[0m\u001b[0;34m,\u001b[0m \u001b[0mfontsize\u001b[0m\u001b[0;34m=\u001b[0m\u001b[0mfontsize\u001b[0m\u001b[0;34m,\u001b[0m \u001b[0mcolor\u001b[0m\u001b[0;34m=\u001b[0m\u001b[0mcolor\u001b[0m\u001b[0;34m)\u001b[0m\u001b[0;34m\u001b[0m\u001b[0;34m\u001b[0m\u001b[0m\n\u001b[0m\u001b[1;32m    808\u001b[0m         \u001b[0mylabels\u001b[0m \u001b[0;34m=\u001b[0m \u001b[0max0\u001b[0m\u001b[0;34m.\u001b[0m\u001b[0mget_yticklabels\u001b[0m\u001b[0;34m(\u001b[0m\u001b[0;34m)\u001b[0m \u001b[0;32mif\u001b[0m \u001b[0mlabels\u001b[0m \u001b[0;32melse\u001b[0m \u001b[0;34m[\u001b[0m\u001b[0;34m]\u001b[0m\u001b[0;34m\u001b[0m\u001b[0;34m\u001b[0m\u001b[0m\n\u001b[1;32m    809\u001b[0m         \u001b[0max0\u001b[0m\u001b[0;34m.\u001b[0m\u001b[0mset_yticklabels\u001b[0m\u001b[0;34m(\u001b[0m\u001b[0mylabels\u001b[0m\u001b[0;34m,\u001b[0m \u001b[0mfontsize\u001b[0m\u001b[0;34m=\u001b[0m\u001b[0mfontsize\u001b[0m\u001b[0;34m)\u001b[0m\u001b[0;34m\u001b[0m\u001b[0;34m\u001b[0m\u001b[0m\n\u001b[1;32m    810\u001b[0m \u001b[0;34m\u001b[0m\u001b[0m\n",
            "\u001b[0;32m~/Projetos/python-inovacao-civica/.venv/lib/python3.10/site-packages/pandas/plotting/_core.py\u001b[0m in \u001b[0;36m?\u001b[0;34m(self, x, y, **kwargs)\u001b[0m\n\u001b[1;32m   1218\u001b[0m         \u001b[0mVertical\u001b[0m \u001b[0mbar\u001b[0m \u001b[0mplot\u001b[0m\u001b[0;34m.\u001b[0m\u001b[0;34m\u001b[0m\u001b[0;34m\u001b[0m\u001b[0m\n\u001b[1;32m   1219\u001b[0m \u001b[0;34m\u001b[0m\u001b[0m\n\u001b[1;32m   1220\u001b[0m         \u001b[0mA\u001b[0m \u001b[0mbar\u001b[0m \u001b[0mplot\u001b[0m \u001b[0;32mis\u001b[0m \u001b[0ma\u001b[0m \u001b[0mplot\u001b[0m \u001b[0mthat\u001b[0m \u001b[0mpresents\u001b[0m \u001b[0mcategorical\u001b[0m \u001b[0mdata\u001b[0m \u001b[0;32mwith\u001b[0m\u001b[0;34m\u001b[0m\u001b[0;34m\u001b[0m\u001b[0m\n\u001b[1;32m   1221\u001b[0m         \u001b[0mrectangular\u001b[0m \u001b[0mbars\u001b[0m \u001b[0;32mwith\u001b[0m \u001b[0mlengths\u001b[0m \u001b[0mproportional\u001b[0m \u001b[0mto\u001b[0m \u001b[0mthe\u001b[0m \u001b[0mvalues\u001b[0m \u001b[0mthat\u001b[0m \u001b[0mthey\u001b[0m\u001b[0;34m\u001b[0m\u001b[0;34m\u001b[0m\u001b[0m\n\u001b[0;32m-> 1222\u001b[0;31m         \u001b[0mrepresent\u001b[0m\u001b[0;34m.\u001b[0m \u001b[0mA\u001b[0m \u001b[0mbar\u001b[0m \u001b[0mplot\u001b[0m \u001b[0mshows\u001b[0m \u001b[0mcomparisons\u001b[0m \u001b[0mamong\u001b[0m \u001b[0mdiscrete\u001b[0m \u001b[0mcategories\u001b[0m\u001b[0;34m.\u001b[0m \u001b[0mOne\u001b[0m\u001b[0;34m\u001b[0m\u001b[0;34m\u001b[0m\u001b[0m\n\u001b[0m\u001b[1;32m   1223\u001b[0m         \u001b[0maxis\u001b[0m \u001b[0mof\u001b[0m \u001b[0mthe\u001b[0m \u001b[0mplot\u001b[0m \u001b[0mshows\u001b[0m \u001b[0mthe\u001b[0m \u001b[0mspecific\u001b[0m \u001b[0mcategories\u001b[0m \u001b[0mbeing\u001b[0m \u001b[0mcompared\u001b[0m\u001b[0;34m,\u001b[0m \u001b[0;32mand\u001b[0m \u001b[0mthe\u001b[0m\u001b[0;34m\u001b[0m\u001b[0;34m\u001b[0m\u001b[0m\n\u001b[1;32m   1224\u001b[0m         \u001b[0mother\u001b[0m \u001b[0maxis\u001b[0m \u001b[0mrepresents\u001b[0m \u001b[0ma\u001b[0m \u001b[0mmeasured\u001b[0m \u001b[0mvalue\u001b[0m\u001b[0;34m.\u001b[0m\u001b[0;34m\u001b[0m\u001b[0;34m\u001b[0m\u001b[0m\n\u001b[1;32m   1225\u001b[0m         \"\"\"\n",
            "\u001b[0;32m~/Projetos/python-inovacao-civica/.venv/lib/python3.10/site-packages/pandas/plotting/_core.py\u001b[0m in \u001b[0;36m?\u001b[0;34m(self, *args, **kwargs)\u001b[0m\n\u001b[1;32m    971\u001b[0m             warnings.warn(\n\u001b[1;32m    972\u001b[0m                 \u001b[0;34m\"`sort_columns` is deprecated and will be removed in a future \"\u001b[0m\u001b[0;34m\u001b[0m\u001b[0;34m\u001b[0m\u001b[0m\n\u001b[1;32m    973\u001b[0m                 \u001b[0;34m\"version.\"\u001b[0m\u001b[0;34m,\u001b[0m\u001b[0;34m\u001b[0m\u001b[0;34m\u001b[0m\u001b[0m\n\u001b[1;32m    974\u001b[0m                 \u001b[0mFutureWarning\u001b[0m\u001b[0;34m,\u001b[0m\u001b[0;34m\u001b[0m\u001b[0;34m\u001b[0m\u001b[0m\n\u001b[0;32m--> 975\u001b[0;31m                 \u001b[0mstacklevel\u001b[0m\u001b[0;34m=\u001b[0m\u001b[0mfind_stack_level\u001b[0m\u001b[0;34m(\u001b[0m\u001b[0;34m)\u001b[0m\u001b[0;34m,\u001b[0m\u001b[0;34m\u001b[0m\u001b[0;34m\u001b[0m\u001b[0m\n\u001b[0m\u001b[1;32m    976\u001b[0m             )\n\u001b[1;32m    977\u001b[0m \u001b[0;34m\u001b[0m\u001b[0m\n\u001b[1;32m    978\u001b[0m         \u001b[0;32mif\u001b[0m \u001b[0margs\u001b[0m \u001b[0;32mand\u001b[0m \u001b[0misinstance\u001b[0m\u001b[0;34m(\u001b[0m\u001b[0mdata\u001b[0m\u001b[0;34m,\u001b[0m \u001b[0mABCSeries\u001b[0m\u001b[0;34m)\u001b[0m\u001b[0;34m:\u001b[0m\u001b[0;34m\u001b[0m\u001b[0;34m\u001b[0m\u001b[0m\n",
            "\u001b[0;32m~/Projetos/python-inovacao-civica/.venv/lib/python3.10/site-packages/pandas/plotting/_matplotlib/__init__.py\u001b[0m in \u001b[0;36m?\u001b[0;34m(data, kind, **kwargs)\u001b[0m\n\u001b[1;32m     67\u001b[0m             \u001b[0;32mwith\u001b[0m \u001b[0mplt\u001b[0m\u001b[0;34m.\u001b[0m\u001b[0mrc_context\u001b[0m\u001b[0;34m(\u001b[0m\u001b[0;34m)\u001b[0m\u001b[0;34m:\u001b[0m\u001b[0;34m\u001b[0m\u001b[0;34m\u001b[0m\u001b[0m\n\u001b[1;32m     68\u001b[0m                 \u001b[0max\u001b[0m \u001b[0;34m=\u001b[0m \u001b[0mplt\u001b[0m\u001b[0;34m.\u001b[0m\u001b[0mgca\u001b[0m\u001b[0;34m(\u001b[0m\u001b[0;34m)\u001b[0m\u001b[0;34m\u001b[0m\u001b[0;34m\u001b[0m\u001b[0m\n\u001b[1;32m     69\u001b[0m             \u001b[0mkwargs\u001b[0m\u001b[0;34m[\u001b[0m\u001b[0;34m\"ax\"\u001b[0m\u001b[0;34m]\u001b[0m \u001b[0;34m=\u001b[0m \u001b[0mgetattr\u001b[0m\u001b[0;34m(\u001b[0m\u001b[0max\u001b[0m\u001b[0;34m,\u001b[0m \u001b[0;34m\"left_ax\"\u001b[0m\u001b[0;34m,\u001b[0m \u001b[0max\u001b[0m\u001b[0;34m)\u001b[0m\u001b[0;34m\u001b[0m\u001b[0;34m\u001b[0m\u001b[0m\n\u001b[1;32m     70\u001b[0m     \u001b[0mplot_obj\u001b[0m \u001b[0;34m=\u001b[0m \u001b[0mPLOT_CLASSES\u001b[0m\u001b[0;34m[\u001b[0m\u001b[0mkind\u001b[0m\u001b[0;34m]\u001b[0m\u001b[0;34m(\u001b[0m\u001b[0mdata\u001b[0m\u001b[0;34m,\u001b[0m \u001b[0;34m**\u001b[0m\u001b[0mkwargs\u001b[0m\u001b[0;34m)\u001b[0m\u001b[0;34m\u001b[0m\u001b[0;34m\u001b[0m\u001b[0m\n\u001b[0;32m---> 71\u001b[0;31m     \u001b[0mplot_obj\u001b[0m\u001b[0;34m.\u001b[0m\u001b[0mgenerate\u001b[0m\u001b[0;34m(\u001b[0m\u001b[0;34m)\u001b[0m\u001b[0;34m\u001b[0m\u001b[0;34m\u001b[0m\u001b[0m\n\u001b[0m\u001b[1;32m     72\u001b[0m     \u001b[0mplot_obj\u001b[0m\u001b[0;34m.\u001b[0m\u001b[0mdraw\u001b[0m\u001b[0;34m(\u001b[0m\u001b[0;34m)\u001b[0m\u001b[0;34m\u001b[0m\u001b[0;34m\u001b[0m\u001b[0m\n\u001b[1;32m     73\u001b[0m     \u001b[0;32mreturn\u001b[0m \u001b[0mplot_obj\u001b[0m\u001b[0;34m.\u001b[0m\u001b[0mresult\u001b[0m\u001b[0;34m\u001b[0m\u001b[0;34m\u001b[0m\u001b[0m\n",
            "\u001b[0;32m~/Projetos/python-inovacao-civica/.venv/lib/python3.10/site-packages/pandas/plotting/_matplotlib/core.py\u001b[0m in \u001b[0;36m?\u001b[0;34m(self)\u001b[0m\n\u001b[1;32m    448\u001b[0m     \u001b[0;32mdef\u001b[0m \u001b[0mgenerate\u001b[0m\u001b[0;34m(\u001b[0m\u001b[0mself\u001b[0m\u001b[0;34m)\u001b[0m \u001b[0;34m->\u001b[0m \u001b[0;32mNone\u001b[0m\u001b[0;34m:\u001b[0m\u001b[0;34m\u001b[0m\u001b[0;34m\u001b[0m\u001b[0m\n\u001b[1;32m    449\u001b[0m         \u001b[0mself\u001b[0m\u001b[0;34m.\u001b[0m\u001b[0m_args_adjust\u001b[0m\u001b[0;34m(\u001b[0m\u001b[0;34m)\u001b[0m\u001b[0;34m\u001b[0m\u001b[0;34m\u001b[0m\u001b[0m\n\u001b[0;32m--> 450\u001b[0;31m         \u001b[0mself\u001b[0m\u001b[0;34m.\u001b[0m\u001b[0m_compute_plot_data\u001b[0m\u001b[0;34m(\u001b[0m\u001b[0;34m)\u001b[0m\u001b[0;34m\u001b[0m\u001b[0;34m\u001b[0m\u001b[0m\n\u001b[0m\u001b[1;32m    451\u001b[0m         \u001b[0mself\u001b[0m\u001b[0;34m.\u001b[0m\u001b[0m_setup_subplots\u001b[0m\u001b[0;34m(\u001b[0m\u001b[0;34m)\u001b[0m\u001b[0;34m\u001b[0m\u001b[0;34m\u001b[0m\u001b[0m\n\u001b[1;32m    452\u001b[0m         \u001b[0mself\u001b[0m\u001b[0;34m.\u001b[0m\u001b[0m_make_plot\u001b[0m\u001b[0;34m(\u001b[0m\u001b[0;34m)\u001b[0m\u001b[0;34m\u001b[0m\u001b[0;34m\u001b[0m\u001b[0m\n\u001b[1;32m    453\u001b[0m         \u001b[0mself\u001b[0m\u001b[0;34m.\u001b[0m\u001b[0m_add_table\u001b[0m\u001b[0;34m(\u001b[0m\u001b[0;34m)\u001b[0m\u001b[0;34m\u001b[0m\u001b[0;34m\u001b[0m\u001b[0m\n",
            "\u001b[0;32m~/Projetos/python-inovacao-civica/.venv/lib/python3.10/site-packages/pandas/plotting/_matplotlib/core.py\u001b[0m in \u001b[0;36m?\u001b[0;34m(self)\u001b[0m\n\u001b[1;32m    604\u001b[0m             \u001b[0mdata\u001b[0m \u001b[0;34m=\u001b[0m \u001b[0mreconstruct_data_with_by\u001b[0m\u001b[0;34m(\u001b[0m\u001b[0mself\u001b[0m\u001b[0;34m.\u001b[0m\u001b[0mdata\u001b[0m\u001b[0;34m,\u001b[0m \u001b[0mby\u001b[0m\u001b[0;34m=\u001b[0m\u001b[0mself\u001b[0m\u001b[0;34m.\u001b[0m\u001b[0mby\u001b[0m\u001b[0;34m,\u001b[0m \u001b[0mcols\u001b[0m\u001b[0;34m=\u001b[0m\u001b[0mself\u001b[0m\u001b[0;34m.\u001b[0m\u001b[0mcolumns\u001b[0m\u001b[0;34m)\u001b[0m\u001b[0;34m\u001b[0m\u001b[0;34m\u001b[0m\u001b[0m\n\u001b[1;32m    605\u001b[0m \u001b[0;34m\u001b[0m\u001b[0m\n\u001b[1;32m    606\u001b[0m         \u001b[0;31m# GH16953, _convert is needed as fallback, for ``Series``\u001b[0m\u001b[0;34m\u001b[0m\u001b[0;34m\u001b[0m\u001b[0m\n\u001b[1;32m    607\u001b[0m         \u001b[0;31m# with ``dtype == object``\u001b[0m\u001b[0;34m\u001b[0m\u001b[0;34m\u001b[0m\u001b[0m\n\u001b[0;32m--> 608\u001b[0;31m         \u001b[0mdata\u001b[0m \u001b[0;34m=\u001b[0m \u001b[0mdata\u001b[0m\u001b[0;34m.\u001b[0m\u001b[0m_convert\u001b[0m\u001b[0;34m(\u001b[0m\u001b[0mdatetime\u001b[0m\u001b[0;34m=\u001b[0m\u001b[0;32mTrue\u001b[0m\u001b[0;34m,\u001b[0m \u001b[0mtimedelta\u001b[0m\u001b[0;34m=\u001b[0m\u001b[0;32mTrue\u001b[0m\u001b[0;34m)\u001b[0m\u001b[0;34m\u001b[0m\u001b[0;34m\u001b[0m\u001b[0m\n\u001b[0m\u001b[1;32m    609\u001b[0m         \u001b[0minclude_type\u001b[0m \u001b[0;34m=\u001b[0m \u001b[0;34m[\u001b[0m\u001b[0mnp\u001b[0m\u001b[0;34m.\u001b[0m\u001b[0mnumber\u001b[0m\u001b[0;34m,\u001b[0m \u001b[0;34m\"datetime\"\u001b[0m\u001b[0;34m,\u001b[0m \u001b[0;34m\"datetimetz\"\u001b[0m\u001b[0;34m,\u001b[0m \u001b[0;34m\"timedelta\"\u001b[0m\u001b[0;34m]\u001b[0m\u001b[0;34m\u001b[0m\u001b[0;34m\u001b[0m\u001b[0m\n\u001b[1;32m    610\u001b[0m \u001b[0;34m\u001b[0m\u001b[0m\n\u001b[1;32m    611\u001b[0m         \u001b[0;31m# GH23719, allow plotting boolean\u001b[0m\u001b[0;34m\u001b[0m\u001b[0;34m\u001b[0m\u001b[0m\n",
            "\u001b[0;32m~/Projetos/python-inovacao-civica/.venv/lib/python3.10/site-packages/pandas/core/generic.py\u001b[0m in \u001b[0;36m?\u001b[0;34m(self, name)\u001b[0m\n",
            "\u001b[0;31mAttributeError\u001b[0m: 'DataFrame' object has no attribute '_convert'"
          ]
        }
      ],
      "source": [
        "profile = ProfileReport(df_vereadores, title=\"Limpeza dos dados - Pandas Profiling Report\")\n",
        "profile.to_file(output_file=\"relatorio_eleicoes_vereadores_2020_ap_pa_limpo.html\")"
      ]
    },
    {
      "cell_type": "markdown",
      "id": "afe7637c",
      "metadata": {
        "id": "afe7637c"
      },
      "source": [
        "### Aula 12: Operações básicas com dados\n",
        "\n",
        "Costumamos construir um subdataframe apenas com as colunas que usaremos na nossa análise. Existem várias formas de filtrar as linhas e colunas. Vamos aprender como fazer isso separadamente:\n",
        "\n",
        "Filtrar as 26 colunas pertinentes para nosso estudo."
      ]
    },
    {
      "cell_type": "code",
      "execution_count": null,
      "id": "a0aaec5a",
      "metadata": {
        "tags": [],
        "id": "a0aaec5a"
      },
      "outputs": [],
      "source": [
        "df_vereadores_ap_pa_reduzido = df_vereadores[\n",
        "    ['ANO_ELEICAO','TP_ABRANGENCIA', 'SG_UF', 'SG_UE', 'NM_UE', 'CD_CARGO', 'DS_CARGO',\n",
        "     'NR_CANDIDATO', 'NM_CANDIDATO', 'NM_URNA_CANDIDATO','NM_SOCIAL_CANDIDATO', 'NR_PARTIDO',\n",
        "     'SG_PARTIDO', 'NR_IDADE_DATA_POSSE','CD_GENERO', 'DS_GENERO', 'CD_COR_RACA', 'DS_COR_RACA',\n",
        "     'VR_DESPESA_MAX_CAMPANHA', 'CD_SIT_TOT_TURNO','DS_SIT_TOT_TURNO', 'ST_REELEICAO', 'CD_SITUACAO_CANDIDATURA',\n",
        "     'DS_SITUACAO_CANDIDATURA', 'CD_DETALHE_SITUACAO_CAND', 'DS_DETALHE_SITUACAO_CAND']\n",
        "].copy()"
      ]
    },
    {
      "cell_type": "code",
      "execution_count": null,
      "id": "2b693814",
      "metadata": {
        "tags": [],
        "id": "2b693814",
        "outputId": "cd11996e-3f48-492b-d4ab-d97786bd2ca6"
      },
      "outputs": [
        {
          "data": {
            "text/plain": [
              "(24583, 26)"
            ]
          },
          "execution_count": 50,
          "metadata": {},
          "output_type": "execute_result"
        }
      ],
      "source": [
        "df_vereadores_ap_pa_reduzido.shape"
      ]
    },
    {
      "cell_type": "markdown",
      "id": "a6f5d4fd",
      "metadata": {
        "id": "a6f5d4fd"
      },
      "source": [
        "Agora selecionaremos apenas as pessoas que tem sua candidaturas \"apto\", \"deferido\" e \"deferido com recurso\"."
      ]
    },
    {
      "cell_type": "code",
      "execution_count": null,
      "id": "ab7dd4bc",
      "metadata": {
        "tags": [],
        "id": "ab7dd4bc"
      },
      "outputs": [],
      "source": [
        "df_vereadores_ap_pa_reduzido_aptas = df_vereadores_ap_pa_reduzido[\n",
        "    df_vereadores_ap_pa_reduzido['CD_SITUACAO_CANDIDATURA'] == 12\n",
        "]"
      ]
    },
    {
      "cell_type": "code",
      "execution_count": null,
      "id": "b7b13b2e",
      "metadata": {
        "tags": [],
        "id": "b7b13b2e"
      },
      "outputs": [],
      "source": [
        "df_vereadores_ap_pa_reduzido_aptas_deferidas = df_vereadores_ap_pa_reduzido_aptas[\n",
        "    (df_vereadores_ap_pa_reduzido_aptas['DS_DETALHE_SITUACAO_CAND'] == 'DEFERIDO') |\n",
        "    (df_vereadores_ap_pa_reduzido_aptas['DS_DETALHE_SITUACAO_CAND'] == 'DEFERIDO COM RECURSO')\n",
        "]"
      ]
    },
    {
      "cell_type": "code",
      "execution_count": null,
      "id": "971ac4c8",
      "metadata": {
        "tags": [],
        "id": "971ac4c8",
        "outputId": "180539b7-9c0a-4d9b-be25-b79a7f5e71a7"
      },
      "outputs": [
        {
          "data": {
            "text/plain": [
              "(23089, 26)"
            ]
          },
          "execution_count": 54,
          "metadata": {},
          "output_type": "execute_result"
        }
      ],
      "source": [
        "df_vereadores_ap_pa_reduzido_aptas_deferidas.shape"
      ]
    },
    {
      "cell_type": "markdown",
      "id": "708c26c6",
      "metadata": {
        "id": "708c26c6"
      },
      "source": [
        "Agora, aprenderemos a filtrar usando a função `pd.loc`:"
      ]
    },
    {
      "cell_type": "code",
      "execution_count": null,
      "id": "159a5a64",
      "metadata": {
        "tags": [],
        "id": "159a5a64"
      },
      "outputs": [],
      "source": [
        "colunas_desejadas = ['ANO_ELEICAO','TP_ABRANGENCIA', 'SG_UF', 'SG_UE', 'NM_UE', 'CD_CARGO', 'DS_CARGO',\n",
        "     'NR_CANDIDATO', 'NM_CANDIDATO', 'NM_URNA_CANDIDATO','NM_SOCIAL_CANDIDATO', 'NR_PARTIDO',\n",
        "     'SG_PARTIDO', 'NR_IDADE_DATA_POSSE','CD_GENERO', 'DS_GENERO', 'CD_COR_RACA', 'DS_COR_RACA',\n",
        "     'VR_DESPESA_MAX_CAMPANHA', 'CD_SIT_TOT_TURNO','DS_SIT_TOT_TURNO', 'ST_REELEICAO', 'CD_SITUACAO_CANDIDATURA',\n",
        "     'DS_SITUACAO_CANDIDATURA', 'CD_DETALHE_SITUACAO_CAND', 'DS_DETALHE_SITUACAO_CAND']"
      ]
    },
    {
      "cell_type": "code",
      "execution_count": null,
      "id": "eaf24bfe",
      "metadata": {
        "tags": [],
        "id": "eaf24bfe"
      },
      "outputs": [],
      "source": [
        "filtro_linhas = (df_vereadores['CD_SITUACAO_CANDIDATURA'] == 12) & (\n",
        "    (df_vereadores['DS_DETALHE_SITUACAO_CAND'] == 'DEFERIDO') |\n",
        "    (df_vereadores['DS_DETALHE_SITUACAO_CAND'] == 'DEFERIDO COM RECURSO')\n",
        ")"
      ]
    },
    {
      "cell_type": "code",
      "execution_count": null,
      "id": "5b46534a",
      "metadata": {
        "tags": [],
        "id": "5b46534a"
      },
      "outputs": [],
      "source": [
        "df_vereadores_ap_pa_reduzido_aptas_deferidas_2 = df_vereadores.loc[filtro_linhas, colunas_desejadas]"
      ]
    },
    {
      "cell_type": "code",
      "execution_count": null,
      "id": "1a71d793",
      "metadata": {
        "tags": [],
        "id": "1a71d793",
        "outputId": "1c351388-2269-42a4-c914-0865e1abac3b"
      },
      "outputs": [
        {
          "data": {
            "text/plain": [
              "(23089, 26)"
            ]
          },
          "execution_count": 58,
          "metadata": {},
          "output_type": "execute_result"
        }
      ],
      "source": [
        "df_vereadores_ap_pa_reduzido_aptas_deferidas_2.shape"
      ]
    },
    {
      "cell_type": "code",
      "execution_count": null,
      "id": "a345bdfc",
      "metadata": {
        "tags": [],
        "id": "a345bdfc"
      },
      "outputs": [],
      "source": [
        "df_vereadores_ap_pa = df_vereadores_ap_pa_reduzido_aptas_deferidas_2.copy()"
      ]
    },
    {
      "cell_type": "markdown",
      "id": "bee75b32",
      "metadata": {
        "id": "bee75b32"
      },
      "source": [
        "## Sua vez, crie um dataframe com apenas os nomes e partidos das pessoas candidatas que se autodeclararam como 'PARDA', 'PRETA' e 'INDÍGENA'"
      ]
    },
    {
      "cell_type": "code",
      "execution_count": null,
      "id": "2c0c506f",
      "metadata": {
        "id": "2c0c506f"
      },
      "outputs": [],
      "source": []
    },
    {
      "cell_type": "markdown",
      "id": "31117422",
      "metadata": {
        "id": "31117422"
      },
      "source": [
        "### Aula 13: Métodos `filter` e `sort_values`\n",
        "\n",
        "Vamos filtrar todas as colunas que possuam as letras \"DIDATO\" no seu título:"
      ]
    },
    {
      "cell_type": "code",
      "execution_count": null,
      "id": "ae91a3eb",
      "metadata": {
        "tags": [],
        "id": "ae91a3eb",
        "outputId": "e416ab82-563b-49d0-f649-b34b344c8291"
      },
      "outputs": [
        {
          "data": {
            "text/html": [
              "<div>\n",
              "<style scoped>\n",
              "    .dataframe tbody tr th:only-of-type {\n",
              "        vertical-align: middle;\n",
              "    }\n",
              "\n",
              "    .dataframe tbody tr th {\n",
              "        vertical-align: top;\n",
              "    }\n",
              "\n",
              "    .dataframe thead th {\n",
              "        text-align: right;\n",
              "    }\n",
              "</style>\n",
              "<table border=\"1\" class=\"dataframe\">\n",
              "  <thead>\n",
              "    <tr style=\"text-align: right;\">\n",
              "      <th></th>\n",
              "      <th>NR_CANDIDATO</th>\n",
              "      <th>NM_CANDIDATO</th>\n",
              "      <th>NM_URNA_CANDIDATO</th>\n",
              "      <th>NM_SOCIAL_CANDIDATO</th>\n",
              "    </tr>\n",
              "  </thead>\n",
              "  <tbody>\n",
              "    <tr>\n",
              "      <th>0</th>\n",
              "      <td>11369</td>\n",
              "      <td>RAIMUNDO MESQUITA FERREIRA DOS SANTOS</td>\n",
              "      <td>GOIABA</td>\n",
              "      <td>None</td>\n",
              "    </tr>\n",
              "    <tr>\n",
              "      <th>1</th>\n",
              "      <td>13000</td>\n",
              "      <td>MAURICIO DEL CASTILLO RAIOL</td>\n",
              "      <td>MAURICIO DA SAÚDE</td>\n",
              "      <td>None</td>\n",
              "    </tr>\n",
              "    <tr>\n",
              "      <th>2</th>\n",
              "      <td>55123</td>\n",
              "      <td>KENNAS DE OLIVEIRA DOS SANTOS</td>\n",
              "      <td>NEGUINHO DO TAXI</td>\n",
              "      <td>None</td>\n",
              "    </tr>\n",
              "    <tr>\n",
              "      <th>4</th>\n",
              "      <td>12111</td>\n",
              "      <td>MAURÍCIO DE OLIVEIRA SUCUPIRA</td>\n",
              "      <td>MAURÍCIO SUCUPIRA</td>\n",
              "      <td>None</td>\n",
              "    </tr>\n",
              "    <tr>\n",
              "      <th>5</th>\n",
              "      <td>17222</td>\n",
              "      <td>ADRIANO DOS SANTOS SILVA</td>\n",
              "      <td>ADRIANO SILVA</td>\n",
              "      <td>None</td>\n",
              "    </tr>\n",
              "  </tbody>\n",
              "</table>\n",
              "</div>"
            ],
            "text/plain": [
              "   NR_CANDIDATO                           NM_CANDIDATO  NM_URNA_CANDIDATO   \n",
              "0         11369  RAIMUNDO MESQUITA FERREIRA DOS SANTOS             GOIABA  \\\n",
              "1         13000            MAURICIO DEL CASTILLO RAIOL  MAURICIO DA SAÚDE   \n",
              "2         55123          KENNAS DE OLIVEIRA DOS SANTOS   NEGUINHO DO TAXI   \n",
              "4         12111          MAURÍCIO DE OLIVEIRA SUCUPIRA  MAURÍCIO SUCUPIRA   \n",
              "5         17222               ADRIANO DOS SANTOS SILVA      ADRIANO SILVA   \n",
              "\n",
              "  NM_SOCIAL_CANDIDATO  \n",
              "0                None  \n",
              "1                None  \n",
              "2                None  \n",
              "4                None  \n",
              "5                None  "
            ]
          },
          "execution_count": 60,
          "metadata": {},
          "output_type": "execute_result"
        }
      ],
      "source": [
        "df_vereadores_ap_pa_nomes = df_vereadores_ap_pa.filter(like='DIDATO', axis=1)\n",
        "df_vereadores_ap_pa_nomes.head()"
      ]
    },
    {
      "cell_type": "markdown",
      "id": "a4061a52",
      "metadata": {
        "id": "a4061a52"
      },
      "source": [
        "Para ordenar as linhas a partir das colunas 'NM_SOCIAL_CANDIDATO' e 'NM_CANDIDATO, usamos o método df.sort_values:"
      ]
    },
    {
      "cell_type": "code",
      "execution_count": null,
      "id": "5deb367b",
      "metadata": {
        "tags": [],
        "id": "5deb367b",
        "outputId": "61370298-04ad-4da4-98b1-668b0a12ed70"
      },
      "outputs": [
        {
          "data": {
            "text/html": [
              "<div>\n",
              "<style scoped>\n",
              "    .dataframe tbody tr th:only-of-type {\n",
              "        vertical-align: middle;\n",
              "    }\n",
              "\n",
              "    .dataframe tbody tr th {\n",
              "        vertical-align: top;\n",
              "    }\n",
              "\n",
              "    .dataframe thead th {\n",
              "        text-align: right;\n",
              "    }\n",
              "</style>\n",
              "<table border=\"1\" class=\"dataframe\">\n",
              "  <thead>\n",
              "    <tr style=\"text-align: right;\">\n",
              "      <th></th>\n",
              "      <th>NR_CANDIDATO</th>\n",
              "      <th>NM_CANDIDATO</th>\n",
              "      <th>NM_URNA_CANDIDATO</th>\n",
              "      <th>NM_SOCIAL_CANDIDATO</th>\n",
              "    </tr>\n",
              "  </thead>\n",
              "  <tbody>\n",
              "    <tr>\n",
              "      <th>19035</th>\n",
              "      <td>45245</td>\n",
              "      <td>DJENANNY PEREIRA</td>\n",
              "      <td>DJENANNY</td>\n",
              "      <td>DJENANNY PEREIRA</td>\n",
              "    </tr>\n",
              "    <tr>\n",
              "      <th>3693</th>\n",
              "      <td>45123</td>\n",
              "      <td>HAGATA MATOS DA SILVA</td>\n",
              "      <td>HAGATA SILVA</td>\n",
              "      <td>HAGATA MATOS DA SILVA</td>\n",
              "    </tr>\n",
              "    <tr>\n",
              "      <th>22143</th>\n",
              "      <td>45888</td>\n",
              "      <td>MARIA EDUARDA SANTOS PINHEIRO</td>\n",
              "      <td>DUDA NEREIDY</td>\n",
              "      <td>MARIA EDUARDA SANTOS PINHEIRO</td>\n",
              "    </tr>\n",
              "    <tr>\n",
              "      <th>18922</th>\n",
              "      <td>15555</td>\n",
              "      <td>PAULA BULCÃO DE ARAUJO</td>\n",
              "      <td>PAULINHA DA SAÚDE</td>\n",
              "      <td>PAULA BULCÃO DE ARAUJO</td>\n",
              "    </tr>\n",
              "    <tr>\n",
              "      <th>10279</th>\n",
              "      <td>40040</td>\n",
              "      <td>PRISCILLA SILVA BRITO</td>\n",
              "      <td>PRISCILLA</td>\n",
              "      <td>PRISCILLA SILVA BRITO</td>\n",
              "    </tr>\n",
              "    <tr>\n",
              "      <th>...</th>\n",
              "      <td>...</td>\n",
              "      <td>...</td>\n",
              "      <td>...</td>\n",
              "      <td>...</td>\n",
              "    </tr>\n",
              "    <tr>\n",
              "      <th>2598</th>\n",
              "      <td>45555</td>\n",
              "      <td>ÉRICA ALVES FELIPE</td>\n",
              "      <td>ÉRICA FELIPE</td>\n",
              "      <td>None</td>\n",
              "    </tr>\n",
              "    <tr>\n",
              "      <th>13010</th>\n",
              "      <td>23555</td>\n",
              "      <td>ÉRICA DE MESQUITA REIS SOUSA</td>\n",
              "      <td>ÉRICA REIS</td>\n",
              "      <td>None</td>\n",
              "    </tr>\n",
              "    <tr>\n",
              "      <th>8289</th>\n",
              "      <td>43741</td>\n",
              "      <td>ÉRICA MARIA PANTOJA DE SOUZA</td>\n",
              "      <td>ÉRICA PANTOJA</td>\n",
              "      <td>None</td>\n",
              "    </tr>\n",
              "    <tr>\n",
              "      <th>23065</th>\n",
              "      <td>45222</td>\n",
              "      <td>ÍTALO BENEDITO DA CRUZ MAGALHÃES</td>\n",
              "      <td>DR ÍTALO MAGALHÃES</td>\n",
              "      <td>None</td>\n",
              "    </tr>\n",
              "    <tr>\n",
              "      <th>1076</th>\n",
              "      <td>11124</td>\n",
              "      <td>ÍTALU FLANEU SILVA CARVALHO</td>\n",
              "      <td>ÍTALU CARVALHO</td>\n",
              "      <td>None</td>\n",
              "    </tr>\n",
              "  </tbody>\n",
              "</table>\n",
              "<p>23089 rows × 4 columns</p>\n",
              "</div>"
            ],
            "text/plain": [
              "       NR_CANDIDATO                      NM_CANDIDATO   NM_URNA_CANDIDATO   \n",
              "19035         45245                  DJENANNY PEREIRA            DJENANNY  \\\n",
              "3693          45123             HAGATA MATOS DA SILVA        HAGATA SILVA   \n",
              "22143         45888     MARIA EDUARDA SANTOS PINHEIRO        DUDA NEREIDY   \n",
              "18922         15555            PAULA BULCÃO DE ARAUJO   PAULINHA DA SAÚDE   \n",
              "10279         40040             PRISCILLA SILVA BRITO           PRISCILLA   \n",
              "...             ...                               ...                 ...   \n",
              "2598          45555                ÉRICA ALVES FELIPE        ÉRICA FELIPE   \n",
              "13010         23555      ÉRICA DE MESQUITA REIS SOUSA          ÉRICA REIS   \n",
              "8289          43741      ÉRICA MARIA PANTOJA DE SOUZA       ÉRICA PANTOJA   \n",
              "23065         45222  ÍTALO BENEDITO DA CRUZ MAGALHÃES  DR ÍTALO MAGALHÃES   \n",
              "1076          11124       ÍTALU FLANEU SILVA CARVALHO      ÍTALU CARVALHO   \n",
              "\n",
              "                 NM_SOCIAL_CANDIDATO  \n",
              "19035               DJENANNY PEREIRA  \n",
              "3693           HAGATA MATOS DA SILVA  \n",
              "22143  MARIA EDUARDA SANTOS PINHEIRO  \n",
              "18922         PAULA BULCÃO DE ARAUJO  \n",
              "10279          PRISCILLA SILVA BRITO  \n",
              "...                              ...  \n",
              "2598                            None  \n",
              "13010                           None  \n",
              "8289                            None  \n",
              "23065                           None  \n",
              "1076                            None  \n",
              "\n",
              "[23089 rows x 4 columns]"
            ]
          },
          "execution_count": 61,
          "metadata": {},
          "output_type": "execute_result"
        }
      ],
      "source": [
        "df_vereadores_ap_pa_nomes.sort_values(by=['NM_SOCIAL_CANDIDATO', 'NM_CANDIDATO'],\n",
        "                                      ascending=True,\n",
        "                                      na_position='last',\n",
        "                                      ignore_index=False\n",
        ")"
      ]
    },
    {
      "cell_type": "markdown",
      "id": "1b2e273a",
      "metadata": {
        "id": "1b2e273a"
      },
      "source": [
        "## Selecione apenas as colunas cujo o título possua \"DS\" e organize em ordem descrescente. Qual o gênero das candidaturas das 3 primeiras linhas?"
      ]
    },
    {
      "cell_type": "code",
      "execution_count": null,
      "id": "7803da95",
      "metadata": {
        "id": "7803da95"
      },
      "outputs": [],
      "source": []
    },
    {
      "cell_type": "markdown",
      "id": "60791f6c",
      "metadata": {
        "id": "60791f6c"
      },
      "source": [
        "### Aula 14: Operações com dados e método `apply`\n",
        "\n",
        "Podemos criar uma nova coluna a partir de operações sobre outras colunas. No exemplo abaixo vamos descobrir o gasto médio diário declarado por cada candidatura."
      ]
    },
    {
      "cell_type": "code",
      "execution_count": null,
      "id": "eed7e75d",
      "metadata": {
        "tags": [],
        "id": "eed7e75d"
      },
      "outputs": [],
      "source": [
        "total_dias_campanha = 45\n",
        "df_vereadores_ap_pa['GASTO_DIARIO'] = df_vereadores_ap_pa['VR_DESPESA_MAX_CAMPANHA'] / total_dias_campanha"
      ]
    },
    {
      "cell_type": "code",
      "execution_count": null,
      "id": "a136009c",
      "metadata": {
        "tags": [],
        "id": "a136009c",
        "outputId": "d83a7ff3-2638-4655-aa18-ed7ed4edb4ff"
      },
      "outputs": [
        {
          "data": {
            "text/html": [
              "<div>\n",
              "<style scoped>\n",
              "    .dataframe tbody tr th:only-of-type {\n",
              "        vertical-align: middle;\n",
              "    }\n",
              "\n",
              "    .dataframe tbody tr th {\n",
              "        vertical-align: top;\n",
              "    }\n",
              "\n",
              "    .dataframe thead th {\n",
              "        text-align: right;\n",
              "    }\n",
              "</style>\n",
              "<table border=\"1\" class=\"dataframe\">\n",
              "  <thead>\n",
              "    <tr style=\"text-align: right;\">\n",
              "      <th></th>\n",
              "      <th>ANO_ELEICAO</th>\n",
              "      <th>TP_ABRANGENCIA</th>\n",
              "      <th>SG_UF</th>\n",
              "      <th>SG_UE</th>\n",
              "      <th>NM_UE</th>\n",
              "      <th>CD_CARGO</th>\n",
              "      <th>DS_CARGO</th>\n",
              "      <th>NR_CANDIDATO</th>\n",
              "      <th>NM_CANDIDATO</th>\n",
              "      <th>NM_URNA_CANDIDATO</th>\n",
              "      <th>...</th>\n",
              "      <th>DS_COR_RACA</th>\n",
              "      <th>VR_DESPESA_MAX_CAMPANHA</th>\n",
              "      <th>CD_SIT_TOT_TURNO</th>\n",
              "      <th>DS_SIT_TOT_TURNO</th>\n",
              "      <th>ST_REELEICAO</th>\n",
              "      <th>CD_SITUACAO_CANDIDATURA</th>\n",
              "      <th>DS_SITUACAO_CANDIDATURA</th>\n",
              "      <th>CD_DETALHE_SITUACAO_CAND</th>\n",
              "      <th>DS_DETALHE_SITUACAO_CAND</th>\n",
              "      <th>GASTO_DIARIO</th>\n",
              "    </tr>\n",
              "  </thead>\n",
              "  <tbody>\n",
              "    <tr>\n",
              "      <th>0</th>\n",
              "      <td>2020</td>\n",
              "      <td>MUNICIPAL</td>\n",
              "      <td>AP</td>\n",
              "      <td>6114</td>\n",
              "      <td>FERREIRA GOMES</td>\n",
              "      <td>13</td>\n",
              "      <td>VEREADOR</td>\n",
              "      <td>11369</td>\n",
              "      <td>RAIMUNDO MESQUITA FERREIRA DOS SANTOS</td>\n",
              "      <td>GOIABA</td>\n",
              "      <td>...</td>\n",
              "      <td>PRETA</td>\n",
              "      <td>12307.75</td>\n",
              "      <td>5</td>\n",
              "      <td>SUPLENTE</td>\n",
              "      <td>N</td>\n",
              "      <td>12</td>\n",
              "      <td>APTO</td>\n",
              "      <td>2</td>\n",
              "      <td>DEFERIDO</td>\n",
              "      <td>273.505556</td>\n",
              "    </tr>\n",
              "    <tr>\n",
              "      <th>1</th>\n",
              "      <td>2020</td>\n",
              "      <td>MUNICIPAL</td>\n",
              "      <td>AP</td>\n",
              "      <td>6076</td>\n",
              "      <td>MAZAGÃO</td>\n",
              "      <td>13</td>\n",
              "      <td>VEREADOR</td>\n",
              "      <td>13000</td>\n",
              "      <td>MAURICIO DEL CASTILLO RAIOL</td>\n",
              "      <td>MAURICIO DA SAÚDE</td>\n",
              "      <td>...</td>\n",
              "      <td>PARDA</td>\n",
              "      <td>24149.88</td>\n",
              "      <td>4</td>\n",
              "      <td>NÃO ELEITO</td>\n",
              "      <td>N</td>\n",
              "      <td>12</td>\n",
              "      <td>APTO</td>\n",
              "      <td>2</td>\n",
              "      <td>DEFERIDO</td>\n",
              "      <td>536.664000</td>\n",
              "    </tr>\n",
              "    <tr>\n",
              "      <th>2</th>\n",
              "      <td>2020</td>\n",
              "      <td>MUNICIPAL</td>\n",
              "      <td>AP</td>\n",
              "      <td>6106</td>\n",
              "      <td>SERRA DO NAVIO</td>\n",
              "      <td>13</td>\n",
              "      <td>VEREADOR</td>\n",
              "      <td>55123</td>\n",
              "      <td>KENNAS DE OLIVEIRA DOS SANTOS</td>\n",
              "      <td>NEGUINHO DO TAXI</td>\n",
              "      <td>...</td>\n",
              "      <td>PRETA</td>\n",
              "      <td>12307.75</td>\n",
              "      <td>5</td>\n",
              "      <td>SUPLENTE</td>\n",
              "      <td>N</td>\n",
              "      <td>12</td>\n",
              "      <td>APTO</td>\n",
              "      <td>2</td>\n",
              "      <td>DEFERIDO</td>\n",
              "      <td>273.505556</td>\n",
              "    </tr>\n",
              "    <tr>\n",
              "      <th>4</th>\n",
              "      <td>2020</td>\n",
              "      <td>MUNICIPAL</td>\n",
              "      <td>AP</td>\n",
              "      <td>6017</td>\n",
              "      <td>AMAPÁ</td>\n",
              "      <td>13</td>\n",
              "      <td>VEREADOR</td>\n",
              "      <td>12111</td>\n",
              "      <td>MAURÍCIO DE OLIVEIRA SUCUPIRA</td>\n",
              "      <td>MAURÍCIO SUCUPIRA</td>\n",
              "      <td>...</td>\n",
              "      <td>PARDA</td>\n",
              "      <td>12307.75</td>\n",
              "      <td>2</td>\n",
              "      <td>ELEITO POR QP</td>\n",
              "      <td>N</td>\n",
              "      <td>12</td>\n",
              "      <td>APTO</td>\n",
              "      <td>2</td>\n",
              "      <td>DEFERIDO</td>\n",
              "      <td>273.505556</td>\n",
              "    </tr>\n",
              "    <tr>\n",
              "      <th>5</th>\n",
              "      <td>2020</td>\n",
              "      <td>MUNICIPAL</td>\n",
              "      <td>AP</td>\n",
              "      <td>6050</td>\n",
              "      <td>MACAPÁ</td>\n",
              "      <td>13</td>\n",
              "      <td>VEREADOR</td>\n",
              "      <td>17222</td>\n",
              "      <td>ADRIANO DOS SANTOS SILVA</td>\n",
              "      <td>ADRIANO SILVA</td>\n",
              "      <td>...</td>\n",
              "      <td>PARDA</td>\n",
              "      <td>151743.76</td>\n",
              "      <td>5</td>\n",
              "      <td>SUPLENTE</td>\n",
              "      <td>N</td>\n",
              "      <td>12</td>\n",
              "      <td>APTO</td>\n",
              "      <td>2</td>\n",
              "      <td>DEFERIDO</td>\n",
              "      <td>3372.083556</td>\n",
              "    </tr>\n",
              "  </tbody>\n",
              "</table>\n",
              "<p>5 rows × 27 columns</p>\n",
              "</div>"
            ],
            "text/plain": [
              "   ANO_ELEICAO TP_ABRANGENCIA SG_UF  SG_UE           NM_UE  CD_CARGO   \n",
              "0         2020      MUNICIPAL    AP   6114  FERREIRA GOMES        13  \\\n",
              "1         2020      MUNICIPAL    AP   6076         MAZAGÃO        13   \n",
              "2         2020      MUNICIPAL    AP   6106  SERRA DO NAVIO        13   \n",
              "4         2020      MUNICIPAL    AP   6017           AMAPÁ        13   \n",
              "5         2020      MUNICIPAL    AP   6050          MACAPÁ        13   \n",
              "\n",
              "   DS_CARGO  NR_CANDIDATO                           NM_CANDIDATO   \n",
              "0  VEREADOR         11369  RAIMUNDO MESQUITA FERREIRA DOS SANTOS  \\\n",
              "1  VEREADOR         13000            MAURICIO DEL CASTILLO RAIOL   \n",
              "2  VEREADOR         55123          KENNAS DE OLIVEIRA DOS SANTOS   \n",
              "4  VEREADOR         12111          MAURÍCIO DE OLIVEIRA SUCUPIRA   \n",
              "5  VEREADOR         17222               ADRIANO DOS SANTOS SILVA   \n",
              "\n",
              "   NM_URNA_CANDIDATO  ... DS_COR_RACA  VR_DESPESA_MAX_CAMPANHA   \n",
              "0             GOIABA  ...       PRETA                 12307.75  \\\n",
              "1  MAURICIO DA SAÚDE  ...       PARDA                 24149.88   \n",
              "2   NEGUINHO DO TAXI  ...       PRETA                 12307.75   \n",
              "4  MAURÍCIO SUCUPIRA  ...       PARDA                 12307.75   \n",
              "5      ADRIANO SILVA  ...       PARDA                151743.76   \n",
              "\n",
              "  CD_SIT_TOT_TURNO  DS_SIT_TOT_TURNO  ST_REELEICAO CD_SITUACAO_CANDIDATURA   \n",
              "0                5          SUPLENTE             N                      12  \\\n",
              "1                4        NÃO ELEITO             N                      12   \n",
              "2                5          SUPLENTE             N                      12   \n",
              "4                2     ELEITO POR QP             N                      12   \n",
              "5                5          SUPLENTE             N                      12   \n",
              "\n",
              "   DS_SITUACAO_CANDIDATURA CD_DETALHE_SITUACAO_CAND  DS_DETALHE_SITUACAO_CAND   \n",
              "0                     APTO                        2                  DEFERIDO  \\\n",
              "1                     APTO                        2                  DEFERIDO   \n",
              "2                     APTO                        2                  DEFERIDO   \n",
              "4                     APTO                        2                  DEFERIDO   \n",
              "5                     APTO                        2                  DEFERIDO   \n",
              "\n",
              "   GASTO_DIARIO  \n",
              "0    273.505556  \n",
              "1    536.664000  \n",
              "2    273.505556  \n",
              "4    273.505556  \n",
              "5   3372.083556  \n",
              "\n",
              "[5 rows x 27 columns]"
            ]
          },
          "execution_count": 63,
          "metadata": {},
          "output_type": "execute_result"
        }
      ],
      "source": [
        "df_vereadores_ap_pa.head()"
      ]
    },
    {
      "cell_type": "markdown",
      "id": "488c750e",
      "metadata": {
        "id": "488c750e"
      },
      "source": [
        "Explorando mais um pouco esses dados, trabalharemos apenas com os dados das candidaturas de Pernambuco e classificaremos os gastos médios diários de acordo com os conceitos de quartil e valores discrepantes que vimos nos vídeos sobre estatística:"
      ]
    },
    {
      "cell_type": "code",
      "execution_count": null,
      "id": "c133044e",
      "metadata": {
        "tags": [],
        "id": "c133044e"
      },
      "outputs": [],
      "source": [
        "df_vereadores_pa = df_vereadores_ap_pa[df_vereadores_ap_pa['SG_UF'] == 'PA'].copy()"
      ]
    },
    {
      "cell_type": "code",
      "execution_count": null,
      "id": "d0ed61f0",
      "metadata": {
        "tags": [],
        "id": "d0ed61f0"
      },
      "outputs": [],
      "source": [
        "primeiro_quartil = df_vereadores_pa['GASTO_DIARIO'].quantile(0.25)\n",
        "terceiro_quartil = df_vereadores_pa['GASTO_DIARIO'].quantile(0.75)"
      ]
    },
    {
      "cell_type": "code",
      "execution_count": null,
      "id": "f1418707",
      "metadata": {
        "tags": [],
        "id": "f1418707"
      },
      "outputs": [],
      "source": [
        "intervalo_interquartil = terceiro_quartil - primeiro_quartil"
      ]
    },
    {
      "cell_type": "code",
      "execution_count": null,
      "id": "7089b366",
      "metadata": {
        "tags": [],
        "id": "7089b366"
      },
      "outputs": [],
      "source": [
        "limite_inferior = primeiro_quartil - (intervalo_interquartil * 1.5)\n",
        "limite_superior = terceiro_quartil + (intervalo_interquartil * 1.5)"
      ]
    },
    {
      "cell_type": "code",
      "execution_count": null,
      "id": "75bb43a9",
      "metadata": {
        "tags": [],
        "id": "75bb43a9"
      },
      "outputs": [],
      "source": [
        "def classificacao_gasto(row):\n",
        "    if row < limite_inferior:\n",
        "        return 'muito abaixo da média'\n",
        "    elif row >= limite_inferior and row < primeiro_quartil:\n",
        "        return 'abaixo da média'\n",
        "    elif row >= primeiro_quartil and row <= terceiro_quartil:\n",
        "        return 'na média'\n",
        "    elif row > terceiro_quartil and row <= limite_superior:\n",
        "        return 'acima da média'\n",
        "    else:\n",
        "        return 'muito acima da média'"
      ]
    },
    {
      "cell_type": "code",
      "execution_count": null,
      "id": "ed50a728",
      "metadata": {
        "tags": [],
        "id": "ed50a728"
      },
      "outputs": [],
      "source": [
        "df_vereadores_pa['CLASSIFICACAO_GASTO_DIARIO'] = df_vereadores_pa['GASTO_DIARIO'].apply(classificacao_gasto)"
      ]
    },
    {
      "cell_type": "code",
      "execution_count": null,
      "id": "13da289a",
      "metadata": {
        "tags": [],
        "id": "13da289a",
        "outputId": "bf23f5f2-81ca-431e-c10a-77be5f3efe2e"
      },
      "outputs": [
        {
          "data": {
            "text/html": [
              "<div>\n",
              "<style scoped>\n",
              "    .dataframe tbody tr th:only-of-type {\n",
              "        vertical-align: middle;\n",
              "    }\n",
              "\n",
              "    .dataframe tbody tr th {\n",
              "        vertical-align: top;\n",
              "    }\n",
              "\n",
              "    .dataframe thead th {\n",
              "        text-align: right;\n",
              "    }\n",
              "</style>\n",
              "<table border=\"1\" class=\"dataframe\">\n",
              "  <thead>\n",
              "    <tr style=\"text-align: right;\">\n",
              "      <th></th>\n",
              "      <th>ANO_ELEICAO</th>\n",
              "      <th>TP_ABRANGENCIA</th>\n",
              "      <th>SG_UF</th>\n",
              "      <th>SG_UE</th>\n",
              "      <th>NM_UE</th>\n",
              "      <th>CD_CARGO</th>\n",
              "      <th>DS_CARGO</th>\n",
              "      <th>NR_CANDIDATO</th>\n",
              "      <th>NM_CANDIDATO</th>\n",
              "      <th>NM_URNA_CANDIDATO</th>\n",
              "      <th>...</th>\n",
              "      <th>VR_DESPESA_MAX_CAMPANHA</th>\n",
              "      <th>CD_SIT_TOT_TURNO</th>\n",
              "      <th>DS_SIT_TOT_TURNO</th>\n",
              "      <th>ST_REELEICAO</th>\n",
              "      <th>CD_SITUACAO_CANDIDATURA</th>\n",
              "      <th>DS_SITUACAO_CANDIDATURA</th>\n",
              "      <th>CD_DETALHE_SITUACAO_CAND</th>\n",
              "      <th>DS_DETALHE_SITUACAO_CAND</th>\n",
              "      <th>GASTO_DIARIO</th>\n",
              "      <th>CLASSIFICACAO_GASTO_DIARIO</th>\n",
              "    </tr>\n",
              "  </thead>\n",
              "  <tbody>\n",
              "    <tr>\n",
              "      <th>2498</th>\n",
              "      <td>2020</td>\n",
              "      <td>MUNICIPAL</td>\n",
              "      <td>PA</td>\n",
              "      <td>5851</td>\n",
              "      <td>CURIONÓPOLIS</td>\n",
              "      <td>13</td>\n",
              "      <td>VEREADOR</td>\n",
              "      <td>15999</td>\n",
              "      <td>LUCAS HENRIQUE NASCIMENTO SILVA</td>\n",
              "      <td>LUCAS MARANHENSE</td>\n",
              "      <td>...</td>\n",
              "      <td>25848.36</td>\n",
              "      <td>5</td>\n",
              "      <td>SUPLENTE</td>\n",
              "      <td>N</td>\n",
              "      <td>12</td>\n",
              "      <td>APTO</td>\n",
              "      <td>2</td>\n",
              "      <td>DEFERIDO</td>\n",
              "      <td>574.408000</td>\n",
              "      <td>na média</td>\n",
              "    </tr>\n",
              "    <tr>\n",
              "      <th>2499</th>\n",
              "      <td>2020</td>\n",
              "      <td>MUNICIPAL</td>\n",
              "      <td>PA</td>\n",
              "      <td>4472</td>\n",
              "      <td>CASTANHAL</td>\n",
              "      <td>13</td>\n",
              "      <td>VEREADOR</td>\n",
              "      <td>13535</td>\n",
              "      <td>RITA DO SOCORRO DOS SANTOS PEREIRA</td>\n",
              "      <td>DONA RITA</td>\n",
              "      <td>...</td>\n",
              "      <td>53698.78</td>\n",
              "      <td>4</td>\n",
              "      <td>NÃO ELEITO</td>\n",
              "      <td>N</td>\n",
              "      <td>12</td>\n",
              "      <td>APTO</td>\n",
              "      <td>2</td>\n",
              "      <td>DEFERIDO</td>\n",
              "      <td>1193.306222</td>\n",
              "      <td>acima da média</td>\n",
              "    </tr>\n",
              "    <tr>\n",
              "      <th>2500</th>\n",
              "      <td>2020</td>\n",
              "      <td>MUNICIPAL</td>\n",
              "      <td>PA</td>\n",
              "      <td>4278</td>\n",
              "      <td>BELÉM</td>\n",
              "      <td>13</td>\n",
              "      <td>VEREADOR</td>\n",
              "      <td>19990</td>\n",
              "      <td>MAXIMILIANO MORAES CARDOSO</td>\n",
              "      <td>NEGO DUBA</td>\n",
              "      <td>...</td>\n",
              "      <td>438043.03</td>\n",
              "      <td>5</td>\n",
              "      <td>SUPLENTE</td>\n",
              "      <td>N</td>\n",
              "      <td>12</td>\n",
              "      <td>APTO</td>\n",
              "      <td>2</td>\n",
              "      <td>DEFERIDO</td>\n",
              "      <td>9734.289556</td>\n",
              "      <td>muito acima da média</td>\n",
              "    </tr>\n",
              "    <tr>\n",
              "      <th>2501</th>\n",
              "      <td>2020</td>\n",
              "      <td>MUNICIPAL</td>\n",
              "      <td>PA</td>\n",
              "      <td>5355</td>\n",
              "      <td>SANTARÉM</td>\n",
              "      <td>13</td>\n",
              "      <td>VEREADOR</td>\n",
              "      <td>22789</td>\n",
              "      <td>JOSAFA DA COSTA GONÇALVES</td>\n",
              "      <td>PROF. JOSAFA DO SINPROSAN</td>\n",
              "      <td>...</td>\n",
              "      <td>83396.64</td>\n",
              "      <td>3</td>\n",
              "      <td>ELEITO POR MÉDIA</td>\n",
              "      <td>N</td>\n",
              "      <td>12</td>\n",
              "      <td>APTO</td>\n",
              "      <td>2</td>\n",
              "      <td>DEFERIDO</td>\n",
              "      <td>1853.258667</td>\n",
              "      <td>acima da média</td>\n",
              "    </tr>\n",
              "    <tr>\n",
              "      <th>2502</th>\n",
              "      <td>2020</td>\n",
              "      <td>MUNICIPAL</td>\n",
              "      <td>PA</td>\n",
              "      <td>4316</td>\n",
              "      <td>BONITO</td>\n",
              "      <td>13</td>\n",
              "      <td>VEREADOR</td>\n",
              "      <td>14234</td>\n",
              "      <td>EDIVALDO DA COSTA CRUZ</td>\n",
              "      <td>BOFÓ</td>\n",
              "      <td>...</td>\n",
              "      <td>12307.75</td>\n",
              "      <td>5</td>\n",
              "      <td>SUPLENTE</td>\n",
              "      <td>N</td>\n",
              "      <td>12</td>\n",
              "      <td>APTO</td>\n",
              "      <td>2</td>\n",
              "      <td>DEFERIDO</td>\n",
              "      <td>273.505556</td>\n",
              "      <td>abaixo da média</td>\n",
              "    </tr>\n",
              "  </tbody>\n",
              "</table>\n",
              "<p>5 rows × 28 columns</p>\n",
              "</div>"
            ],
            "text/plain": [
              "      ANO_ELEICAO TP_ABRANGENCIA SG_UF  SG_UE         NM_UE  CD_CARGO   \n",
              "2498         2020      MUNICIPAL    PA   5851  CURIONÓPOLIS        13  \\\n",
              "2499         2020      MUNICIPAL    PA   4472     CASTANHAL        13   \n",
              "2500         2020      MUNICIPAL    PA   4278         BELÉM        13   \n",
              "2501         2020      MUNICIPAL    PA   5355      SANTARÉM        13   \n",
              "2502         2020      MUNICIPAL    PA   4316        BONITO        13   \n",
              "\n",
              "      DS_CARGO  NR_CANDIDATO                        NM_CANDIDATO   \n",
              "2498  VEREADOR         15999     LUCAS HENRIQUE NASCIMENTO SILVA  \\\n",
              "2499  VEREADOR         13535  RITA DO SOCORRO DOS SANTOS PEREIRA   \n",
              "2500  VEREADOR         19990          MAXIMILIANO MORAES CARDOSO   \n",
              "2501  VEREADOR         22789           JOSAFA DA COSTA GONÇALVES   \n",
              "2502  VEREADOR         14234              EDIVALDO DA COSTA CRUZ   \n",
              "\n",
              "              NM_URNA_CANDIDATO  ... VR_DESPESA_MAX_CAMPANHA   \n",
              "2498           LUCAS MARANHENSE  ...                25848.36  \\\n",
              "2499                  DONA RITA  ...                53698.78   \n",
              "2500                  NEGO DUBA  ...               438043.03   \n",
              "2501  PROF. JOSAFA DO SINPROSAN  ...                83396.64   \n",
              "2502                       BOFÓ  ...                12307.75   \n",
              "\n",
              "      CD_SIT_TOT_TURNO  DS_SIT_TOT_TURNO  ST_REELEICAO   \n",
              "2498                 5          SUPLENTE             N  \\\n",
              "2499                 4        NÃO ELEITO             N   \n",
              "2500                 5          SUPLENTE             N   \n",
              "2501                 3  ELEITO POR MÉDIA             N   \n",
              "2502                 5          SUPLENTE             N   \n",
              "\n",
              "      CD_SITUACAO_CANDIDATURA DS_SITUACAO_CANDIDATURA   \n",
              "2498                       12                    APTO  \\\n",
              "2499                       12                    APTO   \n",
              "2500                       12                    APTO   \n",
              "2501                       12                    APTO   \n",
              "2502                       12                    APTO   \n",
              "\n",
              "      CD_DETALHE_SITUACAO_CAND DS_DETALHE_SITUACAO_CAND  GASTO_DIARIO   \n",
              "2498                         2                 DEFERIDO    574.408000  \\\n",
              "2499                         2                 DEFERIDO   1193.306222   \n",
              "2500                         2                 DEFERIDO   9734.289556   \n",
              "2501                         2                 DEFERIDO   1853.258667   \n",
              "2502                         2                 DEFERIDO    273.505556   \n",
              "\n",
              "      CLASSIFICACAO_GASTO_DIARIO  \n",
              "2498                    na média  \n",
              "2499              acima da média  \n",
              "2500        muito acima da média  \n",
              "2501              acima da média  \n",
              "2502             abaixo da média  \n",
              "\n",
              "[5 rows x 28 columns]"
            ]
          },
          "execution_count": 70,
          "metadata": {},
          "output_type": "execute_result"
        }
      ],
      "source": [
        "df_vereadores_pa.head()"
      ]
    },
    {
      "cell_type": "markdown",
      "id": "8b96f806",
      "metadata": {
        "id": "8b96f806"
      },
      "source": [
        "Para facilitar a visualização faremos um gráfico de barras usando a biblioteca matplotlib:"
      ]
    },
    {
      "cell_type": "code",
      "execution_count": null,
      "id": "c9d2cf02",
      "metadata": {
        "tags": [],
        "id": "c9d2cf02"
      },
      "outputs": [],
      "source": [
        "from matplotlib import pyplot as plt"
      ]
    },
    {
      "cell_type": "code",
      "execution_count": null,
      "id": "9a2afa00",
      "metadata": {
        "tags": [],
        "id": "9a2afa00"
      },
      "outputs": [],
      "source": [
        "# guarda na variável \"classificacao\" uma lista com os rótulos usados para classificar os gastos\n",
        "classificacao = df_vereadores_pa['CLASSIFICACAO_GASTO_DIARIO'].unique().tolist()"
      ]
    },
    {
      "cell_type": "code",
      "execution_count": null,
      "id": "216ca920",
      "metadata": {
        "tags": [],
        "id": "216ca920"
      },
      "outputs": [],
      "source": [
        "#guarda na variável \"total_por_classificacao\" uma lista a quantidade de ocorrência de cada rótulo\n",
        "total_por_classificacao = df_vereadores_pa['CLASSIFICACAO_GASTO_DIARIO'].value_counts().to_list()"
      ]
    },
    {
      "cell_type": "code",
      "execution_count": null,
      "id": "30b26e0c",
      "metadata": {
        "tags": [],
        "id": "30b26e0c",
        "outputId": "d724538b-d815-4e80-fbcf-d459516abea2"
      },
      "outputs": [
        {
          "name": "stderr",
          "output_type": "stream",
          "text": [
            "/tmp/ipykernel_19778/4275048101.py:5: UserWarning: Matplotlib is currently using module://matplotlib_inline.backend_inline, which is a non-GUI backend, so cannot show the figure.\n",
            "  plt.show()\n"
          ]
        }
      ],
      "source": [
        "plt.bar(classificacao, total_por_classificacao)\n",
        "plt.title('Gastos diários declarados por candidatura')\n",
        "plt.ylabel('Quantitativo de municípios por classificação')\n",
        "\n",
        "plt.show()"
      ]
    },
    {
      "cell_type": "markdown",
      "id": "827e1acf",
      "metadata": {
        "id": "827e1acf"
      },
      "source": [
        "### Aula 15: Operações com dados e método `groupby`\n",
        "\n",
        "Usando o método groupby podemos agrupar dados segundo informações de uma coluna e fazer operações com o agrupamento.\n",
        "\n",
        "As perguntas que queremos responder são: quantas mulheres são candidatas? Qual a distribuição de pessoas por grupo racial? Quantidade de mulheres por grupo racial? E qual partido tem mais mulheres em cada grupo racial?\n"
      ]
    },
    {
      "cell_type": "code",
      "execution_count": null,
      "id": "6b9b70e3",
      "metadata": {
        "tags": [],
        "id": "6b9b70e3"
      },
      "outputs": [],
      "source": [
        "colunas_desejadas = ['SG_PARTIDO', 'DS_GENERO', 'DS_COR_RACA']\n",
        "filtro = df_vereadores_ap_pa['SG_UF'] == 'AP'"
      ]
    },
    {
      "cell_type": "code",
      "execution_count": null,
      "id": "b003a30a",
      "metadata": {
        "tags": [],
        "id": "b003a30a"
      },
      "outputs": [],
      "source": [
        "df_vereadores_ap_sexo_raca = df_vereadores_ap_pa.loc[filtro, colunas_desejadas]"
      ]
    },
    {
      "cell_type": "code",
      "execution_count": null,
      "id": "a036411d",
      "metadata": {
        "tags": [],
        "id": "a036411d",
        "outputId": "b6683c31-0daf-4238-b19d-3b731f3398dd"
      },
      "outputs": [
        {
          "data": {
            "text/html": [
              "<div>\n",
              "<style scoped>\n",
              "    .dataframe tbody tr th:only-of-type {\n",
              "        vertical-align: middle;\n",
              "    }\n",
              "\n",
              "    .dataframe tbody tr th {\n",
              "        vertical-align: top;\n",
              "    }\n",
              "\n",
              "    .dataframe thead th {\n",
              "        text-align: right;\n",
              "    }\n",
              "</style>\n",
              "<table border=\"1\" class=\"dataframe\">\n",
              "  <thead>\n",
              "    <tr style=\"text-align: right;\">\n",
              "      <th></th>\n",
              "      <th>SG_PARTIDO</th>\n",
              "      <th>DS_GENERO</th>\n",
              "      <th>DS_COR_RACA</th>\n",
              "    </tr>\n",
              "  </thead>\n",
              "  <tbody>\n",
              "    <tr>\n",
              "      <th>0</th>\n",
              "      <td>PP</td>\n",
              "      <td>MASCULINO</td>\n",
              "      <td>PRETA</td>\n",
              "    </tr>\n",
              "    <tr>\n",
              "      <th>1</th>\n",
              "      <td>PT</td>\n",
              "      <td>MASCULINO</td>\n",
              "      <td>PARDA</td>\n",
              "    </tr>\n",
              "    <tr>\n",
              "      <th>2</th>\n",
              "      <td>PSD</td>\n",
              "      <td>MASCULINO</td>\n",
              "      <td>PRETA</td>\n",
              "    </tr>\n",
              "    <tr>\n",
              "      <th>4</th>\n",
              "      <td>PDT</td>\n",
              "      <td>MASCULINO</td>\n",
              "      <td>PARDA</td>\n",
              "    </tr>\n",
              "    <tr>\n",
              "      <th>5</th>\n",
              "      <td>PSL</td>\n",
              "      <td>MASCULINO</td>\n",
              "      <td>PARDA</td>\n",
              "    </tr>\n",
              "  </tbody>\n",
              "</table>\n",
              "</div>"
            ],
            "text/plain": [
              "  SG_PARTIDO  DS_GENERO DS_COR_RACA\n",
              "0         PP  MASCULINO       PRETA\n",
              "1         PT  MASCULINO       PARDA\n",
              "2        PSD  MASCULINO       PRETA\n",
              "4        PDT  MASCULINO       PARDA\n",
              "5        PSL  MASCULINO       PARDA"
            ]
          },
          "execution_count": 77,
          "metadata": {},
          "output_type": "execute_result"
        }
      ],
      "source": [
        "df_vereadores_ap_sexo_raca.head()"
      ]
    },
    {
      "cell_type": "markdown",
      "id": "9fc3e4f7",
      "metadata": {
        "id": "9fc3e4f7"
      },
      "source": [
        "Agrupando por gênero, quantas candidaturas temos em cada um?"
      ]
    },
    {
      "cell_type": "code",
      "execution_count": null,
      "id": "69e9046f",
      "metadata": {
        "tags": [],
        "id": "69e9046f",
        "outputId": "67b7ec67-204b-4653-8310-3575d826ff0b"
      },
      "outputs": [
        {
          "data": {
            "text/html": [
              "<div>\n",
              "<style scoped>\n",
              "    .dataframe tbody tr th:only-of-type {\n",
              "        vertical-align: middle;\n",
              "    }\n",
              "\n",
              "    .dataframe tbody tr th {\n",
              "        vertical-align: top;\n",
              "    }\n",
              "\n",
              "    .dataframe thead th {\n",
              "        text-align: right;\n",
              "    }\n",
              "</style>\n",
              "<table border=\"1\" class=\"dataframe\">\n",
              "  <thead>\n",
              "    <tr style=\"text-align: right;\">\n",
              "      <th></th>\n",
              "      <th>SG_PARTIDO</th>\n",
              "      <th>DS_COR_RACA</th>\n",
              "    </tr>\n",
              "    <tr>\n",
              "      <th>DS_GENERO</th>\n",
              "      <th></th>\n",
              "      <th></th>\n",
              "    </tr>\n",
              "  </thead>\n",
              "  <tbody>\n",
              "    <tr>\n",
              "      <th>FEMININO</th>\n",
              "      <td>765</td>\n",
              "      <td>765</td>\n",
              "    </tr>\n",
              "    <tr>\n",
              "      <th>MASCULINO</th>\n",
              "      <td>1349</td>\n",
              "      <td>1349</td>\n",
              "    </tr>\n",
              "  </tbody>\n",
              "</table>\n",
              "</div>"
            ],
            "text/plain": [
              "           SG_PARTIDO  DS_COR_RACA\n",
              "DS_GENERO                         \n",
              "FEMININO          765          765\n",
              "MASCULINO        1349         1349"
            ]
          },
          "execution_count": 78,
          "metadata": {},
          "output_type": "execute_result"
        }
      ],
      "source": [
        "df_vereadores_ap_sexo_raca.groupby(['DS_GENERO']).count()"
      ]
    },
    {
      "cell_type": "markdown",
      "id": "2f01e94e",
      "metadata": {
        "id": "2f01e94e"
      },
      "source": [
        "E por raça?"
      ]
    },
    {
      "cell_type": "code",
      "execution_count": null,
      "id": "3f5cefbc",
      "metadata": {
        "tags": [],
        "id": "3f5cefbc",
        "outputId": "e5ed1461-f5ca-4c08-dc2d-c96bcc6414ff"
      },
      "outputs": [
        {
          "data": {
            "text/html": [
              "<div>\n",
              "<style scoped>\n",
              "    .dataframe tbody tr th:only-of-type {\n",
              "        vertical-align: middle;\n",
              "    }\n",
              "\n",
              "    .dataframe tbody tr th {\n",
              "        vertical-align: top;\n",
              "    }\n",
              "\n",
              "    .dataframe thead th {\n",
              "        text-align: right;\n",
              "    }\n",
              "</style>\n",
              "<table border=\"1\" class=\"dataframe\">\n",
              "  <thead>\n",
              "    <tr style=\"text-align: right;\">\n",
              "      <th></th>\n",
              "      <th>SG_PARTIDO</th>\n",
              "      <th>DS_GENERO</th>\n",
              "    </tr>\n",
              "    <tr>\n",
              "      <th>DS_COR_RACA</th>\n",
              "      <th></th>\n",
              "      <th></th>\n",
              "    </tr>\n",
              "  </thead>\n",
              "  <tbody>\n",
              "    <tr>\n",
              "      <th>AMARELA</th>\n",
              "      <td>3</td>\n",
              "      <td>3</td>\n",
              "    </tr>\n",
              "    <tr>\n",
              "      <th>BRANCA</th>\n",
              "      <td>300</td>\n",
              "      <td>300</td>\n",
              "    </tr>\n",
              "    <tr>\n",
              "      <th>INDÍGENA</th>\n",
              "      <td>22</td>\n",
              "      <td>22</td>\n",
              "    </tr>\n",
              "    <tr>\n",
              "      <th>NÃO INFORMADO</th>\n",
              "      <td>4</td>\n",
              "      <td>4</td>\n",
              "    </tr>\n",
              "    <tr>\n",
              "      <th>PARDA</th>\n",
              "      <td>1544</td>\n",
              "      <td>1544</td>\n",
              "    </tr>\n",
              "    <tr>\n",
              "      <th>PRETA</th>\n",
              "      <td>241</td>\n",
              "      <td>241</td>\n",
              "    </tr>\n",
              "  </tbody>\n",
              "</table>\n",
              "</div>"
            ],
            "text/plain": [
              "               SG_PARTIDO  DS_GENERO\n",
              "DS_COR_RACA                         \n",
              "AMARELA                 3          3\n",
              "BRANCA                300        300\n",
              "INDÍGENA               22         22\n",
              "NÃO INFORMADO           4          4\n",
              "PARDA                1544       1544\n",
              "PRETA                 241        241"
            ]
          },
          "execution_count": 79,
          "metadata": {},
          "output_type": "execute_result"
        }
      ],
      "source": [
        "df_vereadores_ap_sexo_raca.groupby(['DS_COR_RACA']).count()"
      ]
    },
    {
      "cell_type": "markdown",
      "id": "6347022c",
      "metadata": {
        "id": "6347022c"
      },
      "source": [
        "Da candidaturas do gênero feminino, quantas temos em cada grupo racial?"
      ]
    },
    {
      "cell_type": "code",
      "execution_count": null,
      "id": "0ebe9c99",
      "metadata": {
        "tags": [],
        "id": "0ebe9c99",
        "outputId": "7a43b73c-b05b-4115-a8d5-de409a526706"
      },
      "outputs": [
        {
          "data": {
            "text/html": [
              "<div>\n",
              "<style scoped>\n",
              "    .dataframe tbody tr th:only-of-type {\n",
              "        vertical-align: middle;\n",
              "    }\n",
              "\n",
              "    .dataframe tbody tr th {\n",
              "        vertical-align: top;\n",
              "    }\n",
              "\n",
              "    .dataframe thead th {\n",
              "        text-align: right;\n",
              "    }\n",
              "</style>\n",
              "<table border=\"1\" class=\"dataframe\">\n",
              "  <thead>\n",
              "    <tr style=\"text-align: right;\">\n",
              "      <th></th>\n",
              "      <th></th>\n",
              "      <th>SG_PARTIDO</th>\n",
              "    </tr>\n",
              "    <tr>\n",
              "      <th>DS_GENERO</th>\n",
              "      <th>DS_COR_RACA</th>\n",
              "      <th></th>\n",
              "    </tr>\n",
              "  </thead>\n",
              "  <tbody>\n",
              "    <tr>\n",
              "      <th rowspan=\"6\" valign=\"top\">FEMININO</th>\n",
              "      <th>AMARELA</th>\n",
              "      <td>2</td>\n",
              "    </tr>\n",
              "    <tr>\n",
              "      <th>BRANCA</th>\n",
              "      <td>103</td>\n",
              "    </tr>\n",
              "    <tr>\n",
              "      <th>INDÍGENA</th>\n",
              "      <td>5</td>\n",
              "    </tr>\n",
              "    <tr>\n",
              "      <th>NÃO INFORMADO</th>\n",
              "      <td>1</td>\n",
              "    </tr>\n",
              "    <tr>\n",
              "      <th>PARDA</th>\n",
              "      <td>575</td>\n",
              "    </tr>\n",
              "    <tr>\n",
              "      <th>PRETA</th>\n",
              "      <td>79</td>\n",
              "    </tr>\n",
              "  </tbody>\n",
              "</table>\n",
              "</div>"
            ],
            "text/plain": [
              "                         SG_PARTIDO\n",
              "DS_GENERO DS_COR_RACA              \n",
              "FEMININO  AMARELA                 2\n",
              "          BRANCA                103\n",
              "          INDÍGENA                5\n",
              "          NÃO INFORMADO           1\n",
              "          PARDA                 575\n",
              "          PRETA                  79"
            ]
          },
          "execution_count": 80,
          "metadata": {},
          "output_type": "execute_result"
        }
      ],
      "source": [
        "df_vereadores_ap_sexo_raca[df_vereadores_ap_sexo_raca['DS_GENERO'] == 'FEMININO'].groupby(\n",
        "    ['DS_GENERO', 'DS_COR_RACA']).count()"
      ]
    },
    {
      "cell_type": "markdown",
      "id": "be3ec27a",
      "metadata": {
        "id": "be3ec27a"
      },
      "source": [
        "Entre as candidaturas do gênero feminino, quais os partidos com maior número de representação em cada grupo racial?"
      ]
    },
    {
      "cell_type": "code",
      "execution_count": null,
      "id": "65e886b4",
      "metadata": {
        "tags": [],
        "id": "65e886b4",
        "outputId": "3f199801-3f97-4d25-db37-12256bb76b88"
      },
      "outputs": [
        {
          "data": {
            "text/html": [
              "<div>\n",
              "<style scoped>\n",
              "    .dataframe tbody tr th:only-of-type {\n",
              "        vertical-align: middle;\n",
              "    }\n",
              "\n",
              "    .dataframe tbody tr th {\n",
              "        vertical-align: top;\n",
              "    }\n",
              "\n",
              "    .dataframe thead th {\n",
              "        text-align: right;\n",
              "    }\n",
              "</style>\n",
              "<table border=\"1\" class=\"dataframe\">\n",
              "  <thead>\n",
              "    <tr style=\"text-align: right;\">\n",
              "      <th></th>\n",
              "      <th></th>\n",
              "      <th>SG_PARTIDO</th>\n",
              "    </tr>\n",
              "    <tr>\n",
              "      <th>DS_GENERO</th>\n",
              "      <th>DS_COR_RACA</th>\n",
              "      <th></th>\n",
              "    </tr>\n",
              "  </thead>\n",
              "  <tbody>\n",
              "    <tr>\n",
              "      <th rowspan=\"6\" valign=\"top\">FEMININO</th>\n",
              "      <th>AMARELA</th>\n",
              "      <td>PTB</td>\n",
              "    </tr>\n",
              "    <tr>\n",
              "      <th>BRANCA</th>\n",
              "      <td>SOLIDARIEDADE</td>\n",
              "    </tr>\n",
              "    <tr>\n",
              "      <th>INDÍGENA</th>\n",
              "      <td>REPUBLICANOS</td>\n",
              "    </tr>\n",
              "    <tr>\n",
              "      <th>NÃO INFORMADO</th>\n",
              "      <td>PDT</td>\n",
              "    </tr>\n",
              "    <tr>\n",
              "      <th>PARDA</th>\n",
              "      <td>SOLIDARIEDADE</td>\n",
              "    </tr>\n",
              "    <tr>\n",
              "      <th>PRETA</th>\n",
              "      <td>REPUBLICANOS</td>\n",
              "    </tr>\n",
              "  </tbody>\n",
              "</table>\n",
              "</div>"
            ],
            "text/plain": [
              "                            SG_PARTIDO\n",
              "DS_GENERO DS_COR_RACA                 \n",
              "FEMININO  AMARELA                  PTB\n",
              "          BRANCA         SOLIDARIEDADE\n",
              "          INDÍGENA        REPUBLICANOS\n",
              "          NÃO INFORMADO            PDT\n",
              "          PARDA          SOLIDARIEDADE\n",
              "          PRETA           REPUBLICANOS"
            ]
          },
          "execution_count": 81,
          "metadata": {},
          "output_type": "execute_result"
        }
      ],
      "source": [
        "df_vereadores_ap_sexo_raca[df_vereadores_ap_sexo_raca['DS_GENERO'] == 'FEMININO'].groupby(\n",
        "    ['DS_GENERO', 'DS_COR_RACA']).max()"
      ]
    },
    {
      "cell_type": "markdown",
      "id": "c3522222",
      "metadata": {
        "id": "c3522222"
      },
      "source": [
        "## Agora é a sua vez, entre as candidaturas do sexo masculino, quais os partidos com o menor número de representantes em cada grupo racial?"
      ]
    },
    {
      "cell_type": "code",
      "execution_count": null,
      "id": "b32635b9",
      "metadata": {
        "id": "b32635b9"
      },
      "outputs": [],
      "source": []
    }
  ],
  "metadata": {
    "kernelspec": {
      "display_name": "Python 3 (ipykernel)",
      "language": "python",
      "name": "python3"
    },
    "language_info": {
      "codemirror_mode": {
        "name": "ipython",
        "version": 3
      },
      "file_extension": ".py",
      "mimetype": "text/x-python",
      "name": "python",
      "nbconvert_exporter": "python",
      "pygments_lexer": "ipython3",
      "version": "3.10.6"
    },
    "colab": {
      "provenance": []
    },
    "widgets": {
      "application/vnd.jupyter.widget-state+json": {
        "b0857189590c40c9b9a92d7f84283663": {
          "model_module": "@jupyter-widgets/controls",
          "model_name": "HBoxModel",
          "model_module_version": "1.5.0",
          "state": {
            "_dom_classes": [],
            "_model_module": "@jupyter-widgets/controls",
            "_model_module_version": "1.5.0",
            "_model_name": "HBoxModel",
            "_view_count": null,
            "_view_module": "@jupyter-widgets/controls",
            "_view_module_version": "1.5.0",
            "_view_name": "HBoxView",
            "box_style": "",
            "children": [
              "IPY_MODEL_66823f3dddb74c449f7934939b2794ec",
              "IPY_MODEL_010940cb93ac4899a671265f7b2b93c6",
              "IPY_MODEL_81fb608a85a24e0abc4999ea1024a795"
            ],
            "layout": "IPY_MODEL_cefe1b3ec8694cb8bc6f4a2a9bc34867"
          }
        },
        "66823f3dddb74c449f7934939b2794ec": {
          "model_module": "@jupyter-widgets/controls",
          "model_name": "HTMLModel",
          "model_module_version": "1.5.0",
          "state": {
            "_dom_classes": [],
            "_model_module": "@jupyter-widgets/controls",
            "_model_module_version": "1.5.0",
            "_model_name": "HTMLModel",
            "_view_count": null,
            "_view_module": "@jupyter-widgets/controls",
            "_view_module_version": "1.5.0",
            "_view_name": "HTMLView",
            "description": "",
            "description_tooltip": null,
            "layout": "IPY_MODEL_b998162b29a244c1aa5fa7d1e18504e8",
            "placeholder": "​",
            "style": "IPY_MODEL_7587c29173b14b4a99cb9b0c75c15442",
            "value": "Export report to file: 100%"
          }
        },
        "010940cb93ac4899a671265f7b2b93c6": {
          "model_module": "@jupyter-widgets/controls",
          "model_name": "FloatProgressModel",
          "model_module_version": "1.5.0",
          "state": {
            "_dom_classes": [],
            "_model_module": "@jupyter-widgets/controls",
            "_model_module_version": "1.5.0",
            "_model_name": "FloatProgressModel",
            "_view_count": null,
            "_view_module": "@jupyter-widgets/controls",
            "_view_module_version": "1.5.0",
            "_view_name": "ProgressView",
            "bar_style": "success",
            "description": "",
            "description_tooltip": null,
            "layout": "IPY_MODEL_7f5a77f25a6748caa810ea7605a226ec",
            "max": 1,
            "min": 0,
            "orientation": "horizontal",
            "style": "IPY_MODEL_236f6d6259e8496b9ace4c63007167af",
            "value": 1
          }
        },
        "81fb608a85a24e0abc4999ea1024a795": {
          "model_module": "@jupyter-widgets/controls",
          "model_name": "HTMLModel",
          "model_module_version": "1.5.0",
          "state": {
            "_dom_classes": [],
            "_model_module": "@jupyter-widgets/controls",
            "_model_module_version": "1.5.0",
            "_model_name": "HTMLModel",
            "_view_count": null,
            "_view_module": "@jupyter-widgets/controls",
            "_view_module_version": "1.5.0",
            "_view_name": "HTMLView",
            "description": "",
            "description_tooltip": null,
            "layout": "IPY_MODEL_65551128272140dea6aa3fa932632b9c",
            "placeholder": "​",
            "style": "IPY_MODEL_b3580dcfc5a0466f9764f2b2e1dfaba2",
            "value": " 1/1 [00:00&lt;00:00,  7.38it/s]"
          }
        },
        "cefe1b3ec8694cb8bc6f4a2a9bc34867": {
          "model_module": "@jupyter-widgets/base",
          "model_name": "LayoutModel",
          "model_module_version": "1.2.0",
          "state": {
            "_model_module": "@jupyter-widgets/base",
            "_model_module_version": "1.2.0",
            "_model_name": "LayoutModel",
            "_view_count": null,
            "_view_module": "@jupyter-widgets/base",
            "_view_module_version": "1.2.0",
            "_view_name": "LayoutView",
            "align_content": null,
            "align_items": null,
            "align_self": null,
            "border": null,
            "bottom": null,
            "display": null,
            "flex": null,
            "flex_flow": null,
            "grid_area": null,
            "grid_auto_columns": null,
            "grid_auto_flow": null,
            "grid_auto_rows": null,
            "grid_column": null,
            "grid_gap": null,
            "grid_row": null,
            "grid_template_areas": null,
            "grid_template_columns": null,
            "grid_template_rows": null,
            "height": null,
            "justify_content": null,
            "justify_items": null,
            "left": null,
            "margin": null,
            "max_height": null,
            "max_width": null,
            "min_height": null,
            "min_width": null,
            "object_fit": null,
            "object_position": null,
            "order": null,
            "overflow": null,
            "overflow_x": null,
            "overflow_y": null,
            "padding": null,
            "right": null,
            "top": null,
            "visibility": null,
            "width": null
          }
        },
        "b998162b29a244c1aa5fa7d1e18504e8": {
          "model_module": "@jupyter-widgets/base",
          "model_name": "LayoutModel",
          "model_module_version": "1.2.0",
          "state": {
            "_model_module": "@jupyter-widgets/base",
            "_model_module_version": "1.2.0",
            "_model_name": "LayoutModel",
            "_view_count": null,
            "_view_module": "@jupyter-widgets/base",
            "_view_module_version": "1.2.0",
            "_view_name": "LayoutView",
            "align_content": null,
            "align_items": null,
            "align_self": null,
            "border": null,
            "bottom": null,
            "display": null,
            "flex": null,
            "flex_flow": null,
            "grid_area": null,
            "grid_auto_columns": null,
            "grid_auto_flow": null,
            "grid_auto_rows": null,
            "grid_column": null,
            "grid_gap": null,
            "grid_row": null,
            "grid_template_areas": null,
            "grid_template_columns": null,
            "grid_template_rows": null,
            "height": null,
            "justify_content": null,
            "justify_items": null,
            "left": null,
            "margin": null,
            "max_height": null,
            "max_width": null,
            "min_height": null,
            "min_width": null,
            "object_fit": null,
            "object_position": null,
            "order": null,
            "overflow": null,
            "overflow_x": null,
            "overflow_y": null,
            "padding": null,
            "right": null,
            "top": null,
            "visibility": null,
            "width": null
          }
        },
        "7587c29173b14b4a99cb9b0c75c15442": {
          "model_module": "@jupyter-widgets/controls",
          "model_name": "DescriptionStyleModel",
          "model_module_version": "1.5.0",
          "state": {
            "_model_module": "@jupyter-widgets/controls",
            "_model_module_version": "1.5.0",
            "_model_name": "DescriptionStyleModel",
            "_view_count": null,
            "_view_module": "@jupyter-widgets/base",
            "_view_module_version": "1.2.0",
            "_view_name": "StyleView",
            "description_width": ""
          }
        },
        "7f5a77f25a6748caa810ea7605a226ec": {
          "model_module": "@jupyter-widgets/base",
          "model_name": "LayoutModel",
          "model_module_version": "1.2.0",
          "state": {
            "_model_module": "@jupyter-widgets/base",
            "_model_module_version": "1.2.0",
            "_model_name": "LayoutModel",
            "_view_count": null,
            "_view_module": "@jupyter-widgets/base",
            "_view_module_version": "1.2.0",
            "_view_name": "LayoutView",
            "align_content": null,
            "align_items": null,
            "align_self": null,
            "border": null,
            "bottom": null,
            "display": null,
            "flex": null,
            "flex_flow": null,
            "grid_area": null,
            "grid_auto_columns": null,
            "grid_auto_flow": null,
            "grid_auto_rows": null,
            "grid_column": null,
            "grid_gap": null,
            "grid_row": null,
            "grid_template_areas": null,
            "grid_template_columns": null,
            "grid_template_rows": null,
            "height": null,
            "justify_content": null,
            "justify_items": null,
            "left": null,
            "margin": null,
            "max_height": null,
            "max_width": null,
            "min_height": null,
            "min_width": null,
            "object_fit": null,
            "object_position": null,
            "order": null,
            "overflow": null,
            "overflow_x": null,
            "overflow_y": null,
            "padding": null,
            "right": null,
            "top": null,
            "visibility": null,
            "width": null
          }
        },
        "236f6d6259e8496b9ace4c63007167af": {
          "model_module": "@jupyter-widgets/controls",
          "model_name": "ProgressStyleModel",
          "model_module_version": "1.5.0",
          "state": {
            "_model_module": "@jupyter-widgets/controls",
            "_model_module_version": "1.5.0",
            "_model_name": "ProgressStyleModel",
            "_view_count": null,
            "_view_module": "@jupyter-widgets/base",
            "_view_module_version": "1.2.0",
            "_view_name": "StyleView",
            "bar_color": null,
            "description_width": ""
          }
        },
        "65551128272140dea6aa3fa932632b9c": {
          "model_module": "@jupyter-widgets/base",
          "model_name": "LayoutModel",
          "model_module_version": "1.2.0",
          "state": {
            "_model_module": "@jupyter-widgets/base",
            "_model_module_version": "1.2.0",
            "_model_name": "LayoutModel",
            "_view_count": null,
            "_view_module": "@jupyter-widgets/base",
            "_view_module_version": "1.2.0",
            "_view_name": "LayoutView",
            "align_content": null,
            "align_items": null,
            "align_self": null,
            "border": null,
            "bottom": null,
            "display": null,
            "flex": null,
            "flex_flow": null,
            "grid_area": null,
            "grid_auto_columns": null,
            "grid_auto_flow": null,
            "grid_auto_rows": null,
            "grid_column": null,
            "grid_gap": null,
            "grid_row": null,
            "grid_template_areas": null,
            "grid_template_columns": null,
            "grid_template_rows": null,
            "height": null,
            "justify_content": null,
            "justify_items": null,
            "left": null,
            "margin": null,
            "max_height": null,
            "max_width": null,
            "min_height": null,
            "min_width": null,
            "object_fit": null,
            "object_position": null,
            "order": null,
            "overflow": null,
            "overflow_x": null,
            "overflow_y": null,
            "padding": null,
            "right": null,
            "top": null,
            "visibility": null,
            "width": null
          }
        },
        "b3580dcfc5a0466f9764f2b2e1dfaba2": {
          "model_module": "@jupyter-widgets/controls",
          "model_name": "DescriptionStyleModel",
          "model_module_version": "1.5.0",
          "state": {
            "_model_module": "@jupyter-widgets/controls",
            "_model_module_version": "1.5.0",
            "_model_name": "DescriptionStyleModel",
            "_view_count": null,
            "_view_module": "@jupyter-widgets/base",
            "_view_module_version": "1.2.0",
            "_view_name": "StyleView",
            "description_width": ""
          }
        }
      }
    }
  },
  "nbformat": 4,
  "nbformat_minor": 5
}